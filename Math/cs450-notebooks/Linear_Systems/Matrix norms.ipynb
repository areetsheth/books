{
  "metadata": {
    "kernelspec": {
      "name": "xeus-python",
      "display_name": "Python (XPython)",
      "language": "python"
    },
    "language_info": {
      "file_extension": ".py",
      "mimetype": "text/x-python",
      "name": "python",
      "version": "3.10.2"
    }
  },
  "nbformat_minor": 4,
  "nbformat": 4,
  "cells": [
    {
      "cell_type": "markdown",
      "source": "# Matrix norms\n\nCopyright (C) 2020 Andreas Kloeckner\n\n<details>\n<summary>MIT License</summary>\nPermission is hereby granted, free of charge, to any person obtaining a copy\nof this software and associated documentation files (the \"Software\"), to deal\nin the Software without restriction, including without limitation the rights\nto use, copy, modify, merge, publish, distribute, sublicense, and/or sell\ncopies of the Software, and to permit persons to whom the Software is\nfurnished to do so, subject to the following conditions:\n\nThe above copyright notice and this permission notice shall be included in\nall copies or substantial portions of the Software.\n\nTHE SOFTWARE IS PROVIDED \"AS IS\", WITHOUT WARRANTY OF ANY KIND, EXPRESS OR\nIMPLIED, INCLUDING BUT NOT LIMITED TO THE WARRANTIES OF MERCHANTABILITY,\nFITNESS FOR A PARTICULAR PURPOSE AND NONINFRINGEMENT. IN NO EVENT SHALL THE\nAUTHORS OR COPYRIGHT HOLDERS BE LIABLE FOR ANY CLAIM, DAMAGES OR OTHER\nLIABILITY, WHETHER IN AN ACTION OF CONTRACT, TORT OR OTHERWISE, ARISING FROM,\nOUT OF OR IN CONNECTION WITH THE SOFTWARE OR THE USE OR OTHER DEALINGS IN\nTHE SOFTWARE.\n</details>",
      "metadata": {}
    },
    {
      "cell_type": "code",
      "source": "import numpy as np\nimport numpy.linalg as la\nimport matplotlib.pyplot as pt",
      "metadata": {
        "collapsed": false,
        "jupyter": {
          "outputs_hidden": false
        },
        "trusted": true
      },
      "execution_count": 1,
      "outputs": []
    },
    {
      "cell_type": "markdown",
      "source": "Here's a matrix of which we're trying to compute the norm:",
      "metadata": {}
    },
    {
      "cell_type": "code",
      "source": "n = 2\nA = np.random.randn(n, n)\nA",
      "metadata": {
        "collapsed": false,
        "jupyter": {
          "outputs_hidden": false
        },
        "trusted": true
      },
      "execution_count": 2,
      "outputs": [
        {
          "execution_count": 2,
          "output_type": "execute_result",
          "data": {
            "text/plain": "array([[-0.26282615,  1.16473733],\n       [ 0.50138746,  0.42924875]])"
          },
          "metadata": {}
        }
      ]
    },
    {
      "cell_type": "markdown",
      "source": "Recall:\n\n$$||A||=\\max_{\\|x\\|=1} \\|Ax\\|,$$\n\nwhere the vector norm must be specified, and the value of the matrix norm $\\|A\\|$ depends on the choice of vector norm.\n\nFor instance, for the $p$-norms, we often write:\n\n$$||A||_2=\\max_{\\|x\\|=1} \\|Ax\\|_2,$$\n\nand similarly for different values of $p$.",
      "metadata": {}
    },
    {
      "cell_type": "markdown",
      "source": "--------------------\nWe can approximate this by just producing very many random vectors and evaluating the formula:",
      "metadata": {}
    },
    {
      "cell_type": "code",
      "source": "xs = np.random.randn(n, 1000)",
      "metadata": {
        "collapsed": false,
        "jupyter": {
          "outputs_hidden": false
        },
        "trusted": true
      },
      "execution_count": 3,
      "outputs": []
    },
    {
      "cell_type": "markdown",
      "source": "First, we need to bring all those vectors to have norm 1. First, compute the norms:",
      "metadata": {}
    },
    {
      "cell_type": "code",
      "source": "p = 2\nnorm_xs = np.sum(np.abs(xs)**p, axis=0)**(1/p)\nnorm_xs.shape",
      "metadata": {
        "collapsed": false,
        "jupyter": {
          "outputs_hidden": false
        },
        "trusted": true
      },
      "execution_count": 4,
      "outputs": [
        {
          "execution_count": 4,
          "output_type": "execute_result",
          "data": {
            "text/plain": "(1000,)"
          },
          "metadata": {}
        }
      ]
    },
    {
      "cell_type": "markdown",
      "source": "Then, divide by the norms and assign to `normalized_xs`:\n\nThen check the norm of a randomly chosen vector.",
      "metadata": {}
    },
    {
      "cell_type": "code",
      "source": "#clear\nnormalized_xs = xs/norm_xs\nla.norm(normalized_xs[:, 316], p)",
      "metadata": {
        "collapsed": false,
        "jupyter": {
          "outputs_hidden": false
        },
        "trusted": true
      },
      "execution_count": 5,
      "outputs": [
        {
          "execution_count": 5,
          "output_type": "execute_result",
          "data": {
            "text/plain": "0.9999999999999999"
          },
          "metadata": {}
        }
      ]
    },
    {
      "cell_type": "markdown",
      "source": "Let's take a look:",
      "metadata": {}
    },
    {
      "cell_type": "code",
      "source": "pt.plot(normalized_xs[0], normalized_xs[1], \"o\")\npt.gca().set_aspect(\"equal\")",
      "metadata": {
        "collapsed": false,
        "jupyter": {
          "outputs_hidden": false
        },
        "trusted": true
      },
      "execution_count": 6,
      "outputs": [
        {
          "output_type": "display_data",
          "data": {
            "image/png": "[encoded data removed]",
            "text/plain": "<Figure size 640x480 with 1 Axes>"
          },
          "metadata": {}
        }
      ]
    },
    {
      "cell_type": "markdown",
      "source": "Now apply $A$ to these normalized vectors:",
      "metadata": {}
    },
    {
      "cell_type": "code",
      "source": "#clear\nA_nxs = A.dot(normalized_xs)",
      "metadata": {
        "collapsed": false,
        "jupyter": {
          "outputs_hidden": false
        }
      },
      "execution_count": 7,
      "outputs": []
    },
    {
      "cell_type": "markdown",
      "source": "--------------\nLet's take a look again:",
      "metadata": {}
    },
    {
      "cell_type": "code",
      "source": "pt.plot(normalized_xs[0], normalized_xs[1], \"o\", label=\"x\")\npt.plot(A_nxs[0], A_nxs[1], \"o\", label=\"Ax\")\npt.legend()\npt.gca().set_aspect(\"equal\")",
      "metadata": {
        "collapsed": false,
        "jupyter": {
          "outputs_hidden": false
        }
      },
      "execution_count": 8,
      "outputs": [
        {
          "output_type": "display_data",
          "data": {
            "image/png": "[encoded data removed]",
            "text/plain": [
              "<matplotlib.figure.Figure at 0x7f71b46a20b8>"
            ]
          },
          "metadata": {}
        }
      ]
    },
    {
      "cell_type": "markdown",
      "source": "Next, compute norms of the $Ax$ vectors:",
      "metadata": {}
    },
    {
      "cell_type": "code",
      "source": "#clear\nnorm_Axs = np.sum(np.abs(A_nxs)**p, axis=0)**(1/p)\nnorm_Axs.shape",
      "metadata": {
        "collapsed": false,
        "jupyter": {
          "outputs_hidden": false
        }
      },
      "execution_count": 9,
      "outputs": [
        {
          "execution_count": 9,
          "output_type": "execute_result",
          "data": {
            "text/plain": [
              "(1000,)"
            ]
          },
          "metadata": {}
        }
      ]
    },
    {
      "cell_type": "markdown",
      "source": "What's the biggest one?",
      "metadata": {}
    },
    {
      "cell_type": "code",
      "source": "#clear\nnp.max(norm_Axs)",
      "metadata": {
        "collapsed": false,
        "jupyter": {
          "outputs_hidden": false
        }
      },
      "execution_count": 10,
      "outputs": [
        {
          "execution_count": 10,
          "output_type": "execute_result",
          "data": {
            "text/plain": [
              "1.4175372998707851"
            ]
          },
          "metadata": {}
        }
      ]
    },
    {
      "cell_type": "markdown",
      "source": "Compare that with what `numpy` thinks the matrix norm is:",
      "metadata": {}
    },
    {
      "cell_type": "code",
      "source": "#clear\nla.norm(A, p)",
      "metadata": {
        "collapsed": false,
        "jupyter": {
          "outputs_hidden": false
        }
      },
      "execution_count": 11,
      "outputs": [
        {
          "execution_count": 11,
          "output_type": "execute_result",
          "data": {
            "text/plain": [
              "1.4175373681672399"
            ]
          },
          "metadata": {}
        }
      ]
    },
    {
      "cell_type": "code",
      "source": "A = np.zeros((3, 3))\nA",
      "metadata": {
        "collapsed": false,
        "jupyter": {
          "outputs_hidden": false
        },
        "trusted": true
      },
      "execution_count": 8,
      "outputs": [
        {
          "execution_count": 8,
          "output_type": "execute_result",
          "data": {
            "text/plain": "array([[0., 0., 0.],\n       [0., 0., 0.],\n       [0., 0., 0.]])"
          },
          "metadata": {}
        }
      ]
    },
    {
      "cell_type": "code",
      "source": "A[0,0] = 5\nA[1,1] = 7\nA[2,2] = 0.1\nprint(A)\nprint(la.norm(A, 2))",
      "metadata": {
        "trusted": true
      },
      "execution_count": 10,
      "outputs": [
        {
          "name": "stdout",
          "text": "[[5.  0.  0. ]\n [0.  7.  0. ]\n [0.  0.  0.1]]\n7.0\n",
          "output_type": "stream"
        }
      ]
    },
    {
      "cell_type": "code",
      "source": "",
      "metadata": {},
      "execution_count": null,
      "outputs": []
    }
  ]
}
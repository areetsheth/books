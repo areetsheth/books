{
  "metadata": {
    "kernelspec": {
      "name": "xeus-python",
      "display_name": "Python (XPython)",
      "language": "python"
    },
    "language_info": {
      "file_extension": ".py",
      "mimetype": "text/x-python",
      "name": "python",
      "version": "3.10.2"
    }
  },
  "nbformat_minor": 4,
  "nbformat": 4,
  "cells": [
    {
      "cell_type": "markdown",
      "source": "# Gram-Schmidt and Modified Gram-Schmidt",
      "metadata": {}
    },
    {
      "cell_type": "code",
      "source": "import numpy as np\nimport numpy.linalg as la",
      "metadata": {
        "collapsed": false,
        "jupyter": {
          "outputs_hidden": false
        }
      },
      "execution_count": 1,
      "outputs": []
    },
    {
      "cell_type": "code",
      "source": "A = np.random.randn(3, 3)",
      "metadata": {
        "collapsed": false,
        "jupyter": {
          "outputs_hidden": false
        }
      },
      "execution_count": 35,
      "outputs": []
    },
    {
      "cell_type": "code",
      "source": "def test_orthogonality(Q):\n    print(\"Q:\")\n    print(Q)\n    \n    print(\"Q^T Q:\")\n    QtQ = np.dot(Q.T, Q)\n    QtQ[np.abs(QtQ) < 1e-15] = 0\n    print(QtQ)",
      "metadata": {
        "collapsed": false,
        "jupyter": {
          "outputs_hidden": false
        }
      },
      "execution_count": 36,
      "outputs": []
    },
    {
      "cell_type": "code",
      "source": "Q = np.zeros(A.shape)",
      "metadata": {
        "collapsed": false,
        "jupyter": {
          "outputs_hidden": false
        }
      },
      "execution_count": 37,
      "outputs": []
    },
    {
      "cell_type": "markdown",
      "source": "Now let us generalize the process we used for three vectors earlier:",
      "metadata": {}
    },
    {
      "cell_type": "code",
      "source": "#clear\nfor k in range(A.shape[1]):\n    avec = A[:, k]\n    q = avec\n    for j in range(k):\n        q = q - np.dot(avec, Q[:,j])*Q[:,j]\n    \n    Q[:, k] = q/la.norm(q)",
      "metadata": {
        "collapsed": false,
        "jupyter": {
          "outputs_hidden": false
        }
      },
      "execution_count": 38,
      "outputs": []
    },
    {
      "cell_type": "markdown",
      "source": "This procedure is called [Gram-Schmidt Orthonormalization](https://en.wikipedia.org/wiki/Gram–Schmidt_process).",
      "metadata": {}
    },
    {
      "cell_type": "code",
      "source": "test_orthogonality(Q)",
      "metadata": {
        "collapsed": false,
        "jupyter": {
          "outputs_hidden": false
        }
      },
      "execution_count": 39,
      "outputs": [
        {
          "name": "stdout",
          "output_type": "stream",
          "text": "Q:\n\n[[-0.6932589320501 -0.6855758663147 -0.2222111263183]\n\n [-0.7199408381809  0.6447564063972  0.2568547564853]\n\n [ 0.032821374928  -0.3380457187077  0.9405572015626]]\n\nQ^T Q:\n\n[[ 1.  0.  0.]\n\n [ 0.  1.  0.]\n\n [ 0.  0.  1.]]\n"
        }
      ]
    },
    {
      "cell_type": "markdown",
      "source": "Now let us try a different example ([Source](http://fgiesen.wordpress.com/2013/06/02/modified-gram-schmidt-orthogonalization/)):",
      "metadata": {}
    },
    {
      "cell_type": "code",
      "source": "\nnp.set_printoptions(precision=13)\n\neps = 1e-8\n\nA = np.array([\n    [1,  1,  1],\n    [eps,eps,0],\n    [eps,0,  eps]\n    ])\n\nA",
      "metadata": {
        "collapsed": false,
        "jupyter": {
          "outputs_hidden": false
        }
      },
      "execution_count": 2,
      "outputs": [
        {
          "execution_count": 2,
          "output_type": "execute_result",
          "data": {
            "text/plain": [
              "array([[  1.0000000000000e+00,   1.0000000000000e+00,   1.0000000000000e+00],\n",
              "       [  1.0000000000000e-08,   1.0000000000000e-08,   0.0000000000000e+00],\n",
              "       [  1.0000000000000e-08,   0.0000000000000e+00,   1.0000000000000e-08]])"
            ]
          },
          "metadata": {}
        }
      ]
    },
    {
      "cell_type": "code",
      "source": "Q = np.zeros(A.shape)",
      "metadata": {
        "collapsed": false,
        "jupyter": {
          "outputs_hidden": false
        }
      },
      "execution_count": 3,
      "outputs": []
    },
    {
      "cell_type": "code",
      "source": "for k in range(A.shape[1]):\n    avec = A[:, k]\n    q = avec\n    for j in range(k):\n        print(q)\n        q = q - np.dot(avec, Q[:,j])*Q[:,j]\n    \n    print(q)\n    q = q/la.norm(q)\n    Q[:, k] = q\n    print(\"norm -->\", q)\n    print(\"-------\")",
      "metadata": {
        "collapsed": false,
        "jupyter": {
          "outputs_hidden": false
        }
      },
      "execution_count": 17,
      "outputs": [
        {
          "name": "stdout",
          "output_type": "stream",
          "text": "[  1.0000000000000e+00   1.0000000000000e-08   1.0000000000000e-08]\n\nnorm --> [  1.0000000000000e+00   1.0000000000000e-08   1.0000000000000e-08]\n\n-------\n\n[  1.0000000000000e+00   1.0000000000000e-08   0.0000000000000e+00]\n\n[  0.0000000000000e+00   0.0000000000000e+00  -1.0000000000000e-08]\n\nnorm --> [ 0.  0. -1.]\n\n-------\n\n[  1.0000000000000e+00   0.0000000000000e+00   1.0000000000000e-08]\n\n[  0.0000000000000e+00  -1.0000000000000e-08   0.0000000000000e+00]\n\n[  0.0000000000000e+00  -1.0000000000000e-08  -1.0000000000000e-08]\n\nnorm --> [ 0.              -0.7071067811865 -0.7071067811865]\n\n-------\n"
        }
      ]
    },
    {
      "cell_type": "code",
      "source": "test_orthogonality(Q)",
      "metadata": {
        "collapsed": false,
        "jupyter": {
          "outputs_hidden": false
        }
      },
      "execution_count": 43,
      "outputs": [
        {
          "name": "stdout",
          "output_type": "stream",
          "text": "Q:\n\n[[  1.0000000000000e+00   0.0000000000000e+00   0.0000000000000e+00]\n\n [  1.0000000000000e-08   0.0000000000000e+00  -7.0710678118655e-01]\n\n [  1.0000000000000e-08  -1.0000000000000e+00  -7.0710678118655e-01]]\n\nQ^T Q:\n\n[[  1.0000000000000e+00  -1.0000000000000e-08  -1.4142135623731e-08]\n\n [ -1.0000000000000e-08   1.0000000000000e+00   7.0710678118655e-01]\n\n [ -1.4142135623731e-08   7.0710678118655e-01   1.0000000000000e+00]]\n"
        }
      ]
    },
    {
      "cell_type": "markdown",
      "source": "Questions:\n\n* What happened?\n* How do we fix it?",
      "metadata": {}
    },
    {
      "cell_type": "code",
      "source": "Q = np.zeros(A.shape)",
      "metadata": {
        "collapsed": false,
        "jupyter": {
          "outputs_hidden": false
        }
      },
      "execution_count": 44,
      "outputs": []
    },
    {
      "cell_type": "code",
      "source": "#clear\nfor k in range(A.shape[1]):\n    q = A[:, k]\n    for j in range(k):\n        q = q - np.dot(q, Q[:,j])*Q[:,j]\n    \n    Q[:, k] = q/la.norm(q)",
      "metadata": {
        "collapsed": false,
        "jupyter": {
          "outputs_hidden": false
        }
      },
      "execution_count": 47,
      "outputs": []
    },
    {
      "cell_type": "code",
      "source": "test_orthogonality(Q)",
      "metadata": {
        "collapsed": false,
        "jupyter": {
          "outputs_hidden": false
        }
      },
      "execution_count": 48,
      "outputs": [
        {
          "name": "stdout",
          "output_type": "stream",
          "text": "Q:\n\n[[  1.0000000000000e+00   0.0000000000000e+00   0.0000000000000e+00]\n\n [  1.0000000000000e-08   0.0000000000000e+00  -1.0000000000000e+00]\n\n [  1.0000000000000e-08  -1.0000000000000e+00   0.0000000000000e+00]]\n\nQ^T Q:\n\n[[  1.0000000000000e+00  -1.0000000000000e-08  -1.0000000000000e-08]\n\n [ -1.0000000000000e-08   1.0000000000000e+00   0.0000000000000e+00]\n\n [ -1.0000000000000e-08   0.0000000000000e+00   1.0000000000000e+00]]\n"
        }
      ]
    },
    {
      "cell_type": "markdown",
      "source": "This procedure is called *Modified* Gram-Schmidt Orthogonalization.\n\nQuestions:\n\n* Is there a difference mathematically between modified and unmodified?\n* Why are there $10^{-8}$ values left in $Q^TQ$?",
      "metadata": {}
    }
  ]
}
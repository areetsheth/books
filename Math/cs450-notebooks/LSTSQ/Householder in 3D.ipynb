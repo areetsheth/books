{
  "metadata": {
    "kernelspec": {
      "name": "xeus-python",
      "display_name": "Python (XPython)",
      "language": "python"
    },
    "language_info": {
      "file_extension": ".py",
      "mimetype": "text/x-python",
      "name": "python",
      "version": "3.10.2"
    }
  },
  "nbformat_minor": 5,
  "nbformat": 4,
  "cells": [
    {
      "cell_type": "markdown",
      "source": "# Householder in 3D\n\nCopyright (C) 2024 Andreas Kloeckner\n\n<details>\n<summary>MIT License</summary>\nPermission is hereby granted, free of charge, to any person obtaining a copy\nof this software and associated documentation files (the \"Software\"), to deal\nin the Software without restriction, including without limitation the rights\nto use, copy, modify, merge, publish, distribute, sublicense, and/or sell\ncopies of the Software, and to permit persons to whom the Software is\nfurnished to do so, subject to the following conditions:\n\nThe above copyright notice and this permission notice shall be included in\nall copies or substantial portions of the Software.\n\nTHE SOFTWARE IS PROVIDED \"AS IS\", WITHOUT WARRANTY OF ANY KIND, EXPRESS OR\nIMPLIED, INCLUDING BUT NOT LIMITED TO THE WARRANTIES OF MERCHANTABILITY,\nFITNESS FOR A PARTICULAR PURPOSE AND NONINFRINGEMENT. IN NO EVENT SHALL THE\nAUTHORS OR COPYRIGHT HOLDERS BE LIABLE FOR ANY CLAIM, DAMAGES OR OTHER\nLIABILITY, WHETHER IN AN ACTION OF CONTRACT, TORT OR OTHERWISE, ARISING FROM,\nOUT OF OR IN CONNECTION WITH THE SOFTWARE OR THE USE OR OTHER DEALINGS IN\nTHE SOFTWARE.\n</details>",
      "metadata": {},
      "id": "89725b36-70b7-4c88-a8c4-c77d2a398e1f"
    },
    {
      "cell_type": "markdown",
      "source": "Requirements to run this:\n```\npip install ipywidgets pyvista[all,trame]\n```\n(will need Jupyter server restart and browser hard-reload)\n\n*Note:* This will not work in the web-based JupyterLab, because software.",
      "metadata": {},
      "id": "59adfbc8-8814-4bcb-906a-2b97cbf9744b"
    },
    {
      "cell_type": "code",
      "source": "import numpy as np\nimport numpy.linalg as la\nimport pyvista as pv\npv.set_jupyter_backend('trame')",
      "metadata": {},
      "execution_count": 47,
      "outputs": [],
      "id": "e1cc4b37-9eca-4630-9abd-0b87e0c01dc2"
    },
    {
      "cell_type": "code",
      "source": "pl = pv.Plotter()\n\na = np.array([-0.4, 0.8, -0.3])\ne1 = np.array([1, 0, 0])\ninplane = a + la.norm(a, 2) * e1\nntilde = a - la.norm(a, 2) * e1\nn = ntilde/la.norm(ntilde, 2)\n\ndef plot_plane(normal, **kwargs):\n    pl.add_mesh(pv.Plane(direction=normal, i_size=2, j_size=2), **kwargs)\n\ndef plot_vector(v, label, **kwargs):\n    v = np.asarray(v, dtype=np.float32)\n    pl.add_mesh(pv.Arrow(direction=v, scale=\"auto\", shaft_radius=0.02, tip_radius=0.04), **kwargs)\n    pl.add_point_labels([v], [label])\n\nplot_plane(n)\nplot_plane(np.cross(e1, a), opacity=0.5)\n\nplot_vector(n, \"n\")\nplot_vector(e1, \"e1\")\nplot_vector(a, \"a\")\nplot_vector(inplane, \"inplane\")\n\npl.show()",
      "metadata": {},
      "execution_count": 46,
      "outputs": [
        {
          "output_type": "display_data",
          "data": {
            "application/vnd.jupyter.widget-view+json": {
              "model_id": "d88e53d3b2f944b5b60f429d5b5aab8c",
              "version_major": 2,
              "version_minor": 0
            },
            "text/plain": [
              "Widget(value='<iframe src=\"http://localhost:40835/index.html?ui=P_0x7f4282b8abd0_38&reconnect=auto\" class=\"pyv…"
            ]
          },
          "metadata": {}
        }
      ],
      "id": "89aa5557-f236-4854-9be7-66df3403c82f"
    },
    {
      "cell_type": "code",
      "source": "",
      "metadata": {},
      "execution_count": null,
      "outputs": [],
      "id": "61331c66-8cc7-4e31-bfc5-61d068e9743e"
    }
  ]
}
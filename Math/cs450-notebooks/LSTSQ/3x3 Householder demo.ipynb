{
  "metadata": {
    "kernelspec": {
      "name": "xeus-python",
      "display_name": "Python (XPython)",
      "language": "python"
    },
    "language_info": {
      "file_extension": ".py",
      "mimetype": "text/x-python",
      "name": "python",
      "version": "3.10.2"
    }
  },
  "nbformat_minor": 4,
  "nbformat": 4,
  "cells": [
    {
      "cell_type": "markdown",
      "source": "# 3x3 Householder QR Demo\n\nCopyright (C) 2020 Andreas Kloeckner\n\n<details>\n<summary>MIT License</summary>\nPermission is hereby granted, free of charge, to any person obtaining a copy\nof this software and associated documentation files (the \"Software\"), to deal\nin the Software without restriction, including without limitation the rights\nto use, copy, modify, merge, publish, distribute, sublicense, and/or sell\ncopies of the Software, and to permit persons to whom the Software is\nfurnished to do so, subject to the following conditions:\n\nThe above copyright notice and this permission notice shall be included in\nall copies or substantial portions of the Software.\n\nTHE SOFTWARE IS PROVIDED \"AS IS\", WITHOUT WARRANTY OF ANY KIND, EXPRESS OR\nIMPLIED, INCLUDING BUT NOT LIMITED TO THE WARRANTIES OF MERCHANTABILITY,\nFITNESS FOR A PARTICULAR PURPOSE AND NONINFRINGEMENT. IN NO EVENT SHALL THE\nAUTHORS OR COPYRIGHT HOLDERS BE LIABLE FOR ANY CLAIM, DAMAGES OR OTHER\nLIABILITY, WHETHER IN AN ACTION OF CONTRACT, TORT OR OTHERWISE, ARISING FROM,\nOUT OF OR IN CONNECTION WITH THE SOFTWARE OR THE USE OR OTHER DEALINGS IN\nTHE SOFTWARE.\n</details>",
      "metadata": {}
    },
    {
      "cell_type": "markdown",
      "source": "This demo constructs a $3\\times 3$ QR factorization using Householder reflectors.",
      "metadata": {}
    },
    {
      "cell_type": "code",
      "source": "import numpy as np\nimport numpy.linalg as la",
      "metadata": {
        "collapsed": false,
        "jupyter": {
          "outputs_hidden": false
        },
        "trusted": true
      },
      "execution_count": 2,
      "outputs": []
    },
    {
      "cell_type": "code",
      "source": "n = 3\n\ne1 = np.array([1,0,0])\ne2 = np.array([0,1,0])\ne3 = np.array([0,0,1])\n\nA = np.random.randn(n, n)\nA",
      "metadata": {
        "collapsed": false,
        "jupyter": {
          "outputs_hidden": false
        },
        "trusted": true
      },
      "execution_count": 3,
      "outputs": [
        {
          "execution_count": 3,
          "output_type": "execute_result",
          "data": {
            "text/plain": "array([[-1.24827164, -1.22141317,  0.95631552],\n       [ 1.20623233,  1.32065379,  1.05558022],\n       [-0.093254  , -1.99638212,  0.0128839 ]])"
          },
          "metadata": {}
        }
      ]
    },
    {
      "cell_type": "markdown",
      "source": "Householder reflector:\n$$I-2\\frac{vv^T}{v^Tv}$$\n\nChoose $v=a-\\|a\\|e_1$.",
      "metadata": {}
    },
    {
      "cell_type": "code",
      "source": "#clear\na = A[:, 0]\nv = a-la.norm(a)*e1\n\nH1 = np.eye(3) - 2*np.outer(v, v)/(v@v)",
      "metadata": {
        "collapsed": false,
        "jupyter": {
          "outputs_hidden": false
        },
        "trusted": true
      },
      "execution_count": 4,
      "outputs": []
    },
    {
      "cell_type": "code",
      "source": "A1 = H1 @ A\nA1",
      "metadata": {
        "collapsed": false,
        "jupyter": {
          "outputs_hidden": false
        },
        "trusted": true
      },
      "execution_count": 5,
      "outputs": [
        {
          "execution_count": 5,
          "output_type": "execute_result",
          "data": {
            "text/plain": "array([[ 1.73835405e+00,  1.90055721e+00,  4.50609983e-02],\n       [-4.00721123e-16,  5.97587254e-02,  1.42361585e+00],\n       [ 1.38777878e-17, -1.89890214e+00, -1.55689853e-02]])"
          },
          "metadata": {}
        }
      ]
    },
    {
      "cell_type": "markdown",
      "source": "NB: Never build full Householder matrices in actual code! (Why? How?)",
      "metadata": {}
    },
    {
      "cell_type": "code",
      "source": "#clear\na = A1[:, 1].copy()\na[0] = 0\nv = a-la.norm(a)*e2\n\nH2 = np.eye(3) - 2*np.outer(v, v)/(v@v)",
      "metadata": {
        "collapsed": false,
        "jupyter": {
          "outputs_hidden": false
        },
        "trusted": true
      },
      "execution_count": 6,
      "outputs": []
    },
    {
      "cell_type": "code",
      "source": "R = H2 @ A1\nR",
      "metadata": {
        "collapsed": false,
        "jupyter": {
          "outputs_hidden": false
        },
        "trusted": true
      },
      "execution_count": 7,
      "outputs": [
        {
          "execution_count": 7,
          "output_type": "execute_result",
          "data": {
            "text/plain": "array([[ 1.73835405e+00,  1.90055721e+00,  4.50609983e-02],\n       [-2.64754326e-17,  1.89984221e+00,  6.03405099e-02],\n       [ 4.00086319e-16, -8.32667268e-17, -1.42242170e+00]])"
          },
          "metadata": {}
        }
      ]
    },
    {
      "cell_type": "code",
      "source": "Q = np.dot(H2, H1).T\nla.norm(np.dot(Q, R) - A)",
      "metadata": {
        "collapsed": false,
        "jupyter": {
          "outputs_hidden": false
        },
        "scrolled": true,
        "trusted": true
      },
      "execution_count": 8,
      "outputs": [
        {
          "execution_count": 8,
          "output_type": "execute_result",
          "data": {
            "text/plain": "7.814885939201831e-16"
          },
          "metadata": {}
        }
      ]
    },
    {
      "cell_type": "code",
      "source": "",
      "metadata": {
        "collapsed": true,
        "jupyter": {
          "outputs_hidden": true
        }
      },
      "execution_count": null,
      "outputs": []
    }
  ]
}
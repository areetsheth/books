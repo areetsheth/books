{
  "cells": [
    {
      "cell_type": "markdown",
      "metadata": {},
      "source": [
        "# Time-dependent PDEs\n",
        "\n",
        "Copyright (C) 2010-2020 Luke Olson<br>\n",
        "Copyright (C) 2020 Andreas Kloeckner\n",
        "\n",
        "<details>\n",
        "<summary>MIT License</summary>\n",
        "Permission is hereby granted, free of charge, to any person obtaining a copy\n",
        "of this software and associated documentation files (the \"Software\"), to deal\n",
        "in the Software without restriction, including without limitation the rights\n",
        "to use, copy, modify, merge, publish, distribute, sublicense, and/or sell\n",
        "copies of the Software, and to permit persons to whom the Software is\n",
        "furnished to do so, subject to the following conditions:\n",
        "\n",
        "The above copyright notice and this permission notice shall be included in\n",
        "all copies or substantial portions of the Software.\n",
        "\n",
        "THE SOFTWARE IS PROVIDED \"AS IS\", WITHOUT WARRANTY OF ANY KIND, EXPRESS OR\n",
        "IMPLIED, INCLUDING BUT NOT LIMITED TO THE WARRANTIES OF MERCHANTABILITY,\n",
        "FITNESS FOR A PARTICULAR PURPOSE AND NONINFRINGEMENT. IN NO EVENT SHALL THE\n",
        "AUTHORS OR COPYRIGHT HOLDERS BE LIABLE FOR ANY CLAIM, DAMAGES OR OTHER\n",
        "LIABILITY, WHETHER IN AN ACTION OF CONTRACT, TORT OR OTHERWISE, ARISING FROM,\n",
        "OUT OF OR IN CONNECTION WITH THE SOFTWARE OR THE USE OR OTHER DEALINGS IN\n",
        "THE SOFTWARE.\n",
        "</details>"
      ]
    },
    {
      "cell_type": "code",
      "execution_count": 1,
      "metadata": {
        "collapsed": false,
        "jupyter": {
          "outputs_hidden": false
        }
      },
      "outputs": [],
      "source": [
        "import numpy as np\n",
        "import matplotlib.pyplot as pt"
      ]
    },
    {
      "cell_type": "code",
      "execution_count": 2,
      "metadata": {
        "collapsed": false,
        "jupyter": {
          "outputs_hidden": false
        }
      },
      "outputs": [],
      "source": [
        "def rk4_step(y, t, h, f):\n",
        "    k1 = f(t, y)\n",
        "    k2 = f(t+h/2, y + h/2*k1)\n",
        "    k3 = f(t+h/2, y + h/2*k2)\n",
        "    k4 = f(t+h, y + h*k3)\n",
        "    return y + h/6*(k1 + 2*k2 + 2*k3 + k4)"
      ]
    },
    {
      "cell_type": "code",
      "execution_count": 11,
      "metadata": {
        "collapsed": false,
        "jupyter": {
          "outputs_hidden": false
        }
      },
      "outputs": [],
      "source": [
        "mesh = np.linspace(0, 1, 200)\n",
        "dx = mesh[1]-mesh[0]"
      ]
    },
    {
      "cell_type": "markdown",
      "metadata": {},
      "source": [
        "(all of the PDEs below use *periodic* boundary conditions: $u(0)=u(1)$)"
      ]
    },
    {
      "cell_type": "markdown",
      "metadata": {},
      "source": [
        "**Advection equation:** $u_t+u_x=0$\n",
        "\n",
        "Equivalent: $u_t=-u_x$"
      ]
    },
    {
      "cell_type": "code",
      "execution_count": 12,
      "metadata": {
        "collapsed": false,
        "jupyter": {
          "outputs_hidden": false
        }
      },
      "outputs": [],
      "source": [
        "def f_advection(t, u):\n",
        "    du = (np.roll(u, -1, axis=-1) - np.roll(u, 1, axis=-1))/(2*dx)\n",
        "    return -du"
      ]
    },
    {
      "cell_type": "markdown",
      "metadata": {},
      "source": [
        "**Heat equation:** $u_t=u_{xx}$"
      ]
    },
    {
      "cell_type": "code",
      "execution_count": 13,
      "metadata": {
        "collapsed": false,
        "jupyter": {
          "outputs_hidden": false
        }
      },
      "outputs": [],
      "source": [
        "def f_heat(t, u):\n",
        "    d2u = (\n",
        "        np.roll(u, -1, axis=-1)\n",
        "        - 2*u\n",
        "        + np.roll(u, 1, axis=-1))/(dx**2)\n",
        "    return d2u"
      ]
    },
    {
      "cell_type": "markdown",
      "metadata": {},
      "source": [
        "**Wave equation:** $u_{tt}=u_{xx}$\n",
        "\n",
        "NOTE: Two time derivatives $\\rightarrow$ convert to first order ODE.\n",
        "\n",
        "$$u_t=v$$\n",
        "$$v_t=u_{xx}$$\n"
      ]
    },
    {
      "cell_type": "code",
      "execution_count": 14,
      "metadata": {
        "collapsed": false,
        "jupyter": {
          "outputs_hidden": false
        }
      },
      "outputs": [],
      "source": [
        "def f_wave(t, w):\n",
        "    u, v = w\n",
        "    d2u = (\n",
        "        np.roll(u, -1, axis=-1)\n",
        "        - 2*u\n",
        "        + np.roll(u, 1, axis=-1))/(dx**2)\n",
        "    return np.array([v, d2u])"
      ]
    },
    {
      "cell_type": "markdown",
      "metadata": {},
      "source": [
        "**Initial condition**"
      ]
    },
    {
      "cell_type": "code",
      "execution_count": 15,
      "metadata": {
        "collapsed": false,
        "jupyter": {
          "outputs_hidden": false
        }
      },
      "outputs": [
        {
          "data": {
            "text/plain": [
              "(1, 200)"
            ]
          },
          "execution_count": 15,
          "metadata": {},
          "output_type": "execute_result"
        }
      ],
      "source": [
        "current_t = 0\n",
        "\n",
        "#current_u = np.sin(2*np.pi*mesh)*0.5+1\n",
        "#current_u = (mesh > 0.3) & (mesh < 0.7)\n",
        "#current_u = (mesh > 0.45) & (mesh < 0.55)\n",
        "current_u = np.exp(-(mesh-0.5)**2*150)\n",
        "#current_u = 2*np.abs(mesh-0.5)\n",
        "\n",
        "current_u = np.array([current_u], dtype=np.float64)\n",
        "current_u.shape"
      ]
    },
    {
      "cell_type": "code",
      "execution_count": 16,
      "metadata": {
        "collapsed": false,
        "jupyter": {
          "outputs_hidden": false
        }
      },
      "outputs": [
        {
          "data": {
            "text/plain": [
              "(2, 200)"
            ]
          },
          "execution_count": 16,
          "metadata": {},
          "output_type": "execute_result"
        }
      ],
      "source": [
        "# Add a second component if needed (for wave equation)\n",
        "current_u = np.vstack([current_u,np.zeros(len(mesh))])\n",
        "current_u.shape"
      ]
    },
    {
      "cell_type": "markdown",
      "metadata": {},
      "source": [
        "**Time loop**"
      ]
    },
    {
      "cell_type": "markdown",
      "metadata": {},
      "source": [
        "Run this cell many times in place (using Ctrl-Enter):"
      ]
    },
    {
      "cell_type": "code",
      "execution_count": 26,
      "metadata": {
        "collapsed": false,
        "jupyter": {
          "outputs_hidden": false
        }
      },
      "outputs": [
        {
          "data": {
            "text/plain": [
              "[<matplotlib.lines.Line2D at 0x7ff76cdad668>]"
            ]
          },
          "execution_count": 26,
          "metadata": {},
          "output_type": "execute_result"
        },
        {
          "data": {
            "image/png": "[encoded data removed]",
            "text/plain": [
              "<matplotlib.figure.Figure at 0x7ff76cdad748>"
            ]
          },
          "metadata": {},
          "output_type": "display_data"
        }
      ],
      "source": [
        "dt = dx # experiment with this\n",
        "\n",
        "#current_f = f_advection\n",
        "#current_f = f_heat\n",
        "current_f = f_wave\n",
        "\n",
        "for i in range(5): # takes this many time steps at a time\n",
        "    current_u = rk4_step(current_u, current_t, dt, current_f)\n",
        "    current_t += dt\n",
        "\n",
        "pt.ylim([-0.25, 1.25])\n",
        "pt.grid()\n",
        "pt.plot(mesh, current_u[0])"
      ]
    },
    {
      "cell_type": "code",
      "execution_count": null,
      "metadata": {
        "collapsed": true,
        "jupyter": {
          "outputs_hidden": true
        }
      },
      "outputs": [],
      "source": []
    }
  ],
  "metadata": {
    "kernelspec": {
      "display_name": "Python 3",
      "language": "python",
      "name": "python3"
    },
    "language_info": {
      "codemirror_mode": {
        "name": "ipython",
        "version": 3
      },
      "file_extension": ".py",
      "mimetype": "text/x-python",
      "name": "python",
      "nbconvert_exporter": "python",
      "pygments_lexer": "ipython3",
      "version": "3.8.3"
    }
  },
  "nbformat": 4,
  "nbformat_minor": 4
}
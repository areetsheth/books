{
  "cells": [
    {
      "cell_type": "markdown",
      "metadata": {},
      "source": [
        "# Picking apart a floating point number\n",
        "\n",
        "Copyright (C) 2020 Andreas Kloeckner\n",
        "\n",
        "<details>\n",
        "<summary>MIT License</summary>\n",
        "Permission is hereby granted, free of charge, to any person obtaining a copy\n",
        "of this software and associated documentation files (the \"Software\"), to deal\n",
        "in the Software without restriction, including without limitation the rights\n",
        "to use, copy, modify, merge, publish, distribute, sublicense, and/or sell\n",
        "copies of the Software, and to permit persons to whom the Software is\n",
        "furnished to do so, subject to the following conditions:\n",
        "\n",
        "The above copyright notice and this permission notice shall be included in\n",
        "all copies or substantial portions of the Software.\n",
        "\n",
        "THE SOFTWARE IS PROVIDED \"AS IS\", WITHOUT WARRANTY OF ANY KIND, EXPRESS OR\n",
        "IMPLIED, INCLUDING BUT NOT LIMITED TO THE WARRANTIES OF MERCHANTABILITY,\n",
        "FITNESS FOR A PARTICULAR PURPOSE AND NONINFRINGEMENT. IN NO EVENT SHALL THE\n",
        "AUTHORS OR COPYRIGHT HOLDERS BE LIABLE FOR ANY CLAIM, DAMAGES OR OTHER\n",
        "LIABILITY, WHETHER IN AN ACTION OF CONTRACT, TORT OR OTHERWISE, ARISING FROM,\n",
        "OUT OF OR IN CONNECTION WITH THE SOFTWARE OR THE USE OR OTHER DEALINGS IN\n",
        "THE SOFTWARE.\n",
        "</details>"
      ]
    },
    {
      "cell_type": "code",
      "execution_count": 1,
      "metadata": {},
      "outputs": [],
      "source": [
        "import numpy as np"
      ]
    },
    {
      "cell_type": "code",
      "execution_count": 31,
      "metadata": {
        "collapsed": false,
        "jupyter": {
          "outputs_hidden": false
        }
      },
      "outputs": [],
      "source": [
        "# Never mind the details of this function...\n",
        "\n",
        "def left_pad(s, desired_len, pad=\"0\"):\n",
        "    if len(s) < desired_len:\n",
        "        s = (desired_len - len(s)) * pad + s\n",
        "    return s\n",
        "        \n",
        "def pretty_print_fp(x):\n",
        "    print(\"---------------------------------------------\")\n",
        "    print(\"Floating point structure for %r\" % x)\n",
        "    print(\"---------------------------------------------\")\n",
        "    import struct\n",
        "    s = struct.pack(\"d\", x)\n",
        "\n",
        "    def get_bit(i):\n",
        "        byte_nr, bit_nr = divmod(i, 8)\n",
        "        return int(bool(\n",
        "            s[byte_nr] & (1 << bit_nr)\n",
        "            ))\n",
        "\n",
        "    def get_bits(lsb, count):\n",
        "        return sum(get_bit(i+lsb)*2**i for i in range(count))\n",
        "\n",
        "    # https://en.wikipedia.org/wiki/Double_precision_floating-point_format\n",
        "\n",
        "    print(\"Sign bit (1:negative):\", get_bit(63))\n",
        "    exponent = get_bits(52, 11)\n",
        "    print(\"Stored exponent bits: %d\" % exponent)\n",
        "    print(\"Exponent (with offset): %d\" % (exponent - 1023))\n",
        "    if exponent == 0:\n",
        "        print(\"  In subnormal range. Effective exponent: -1022\")\n",
        "    fraction = get_bits(0, 52)\n",
        "    print(f\"Stored fraction bits: ({left_pad(bin(fraction)[2:], 52)}_2\")\n",
        "    if exponent != 0:\n",
        "        significand = fraction + 2**52\n",
        "    else:\n",
        "        significand = fraction\n",
        "    sig_str = left_pad(bin(significand)[2:], 53)\n",
        "    print(f\"Significand: ({sig_str[0]}.{sig_str[1:]})_2\")\n",
        "    print(\"Significand:\", repr(significand / (2**52)))"
      ]
    },
    {
      "cell_type": "code",
      "execution_count": 32,
      "metadata": {
        "collapsed": false,
        "jupyter": {
          "outputs_hidden": false
        }
      },
      "outputs": [
        {
          "name": "stdout",
          "output_type": "stream",
          "text": [
            "---------------------------------------------\n",
            "Floating point structure for 2.781342323134e-309\n",
            "---------------------------------------------\n",
            "Sign bit (1:negative): 0\n",
            "Stored exponent bits: 0\n",
            "Exponent (with offset): -1023\n",
            "  In subnormal range. Effective exponent: -1022\n",
            "Stored fraction bits: (0010000000000000000000000000000000000000000000000000_2\n",
            "Significand: (0.0010000000000000000000000000000000000000000000000000)_2\n",
            "Significand: 0.125\n"
          ]
        }
      ],
      "source": [
        "pretty_print_fp(2**(-1025))"
      ]
    },
    {
      "cell_type": "markdown",
      "metadata": {},
      "source": [
        "Things to try:\n",
        "\n",
        "* Twiddle the sign bit\n",
        "* 1,2,4,8\n",
        "* 0.5,0.25\n",
        "* $2^{\\pm 1023}$, $2^{\\pm 1024}$\n",
        "* `float(\"nan\")`"
      ]
    },
    {
      "cell_type": "code",
      "execution_count": null,
      "metadata": {
        "collapsed": true,
        "jupyter": {
          "outputs_hidden": true
        }
      },
      "outputs": [],
      "source": []
    }
  ],
  "metadata": {
    "kernelspec": {
      "display_name": "Python 3",
      "language": "python",
      "name": "python3"
    },
    "language_info": {
      "codemirror_mode": {
        "name": "ipython",
        "version": 3
      },
      "file_extension": ".py",
      "mimetype": "text/x-python",
      "name": "python",
      "nbconvert_exporter": "python",
      "pygments_lexer": "ipython3",
      "version": "3.9.2"
    }
  },
  "nbformat": 4,
  "nbformat_minor": 4
}
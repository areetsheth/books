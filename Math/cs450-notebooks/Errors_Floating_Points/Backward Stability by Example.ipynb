{
  "metadata": {
    "kernelspec": {
      "name": "xeus-python",
      "display_name": "Python (XPython)",
      "language": "python"
    },
    "language_info": {
      "file_extension": ".py",
      "mimetype": "text/x-python",
      "name": "python",
      "version": "3.10.2"
    }
  },
  "nbformat_minor": 5,
  "nbformat": 4,
  "cells": [
    {
      "cell_type": "markdown",
      "source": "# Backward Stability by Example\n\nCopyright (C) 2024 Andreas Kloeckner\n\n<details>\n<summary>MIT License</summary>\nPermission is hereby granted, free of charge, to any person obtaining a copy\nof this software and associated documentation files (the \"Software\"), to deal\nin the Software without restriction, including without limitation the rights\nto use, copy, modify, merge, publish, distribute, sublicense, and/or sell\ncopies of the Software, and to permit persons to whom the Software is\nfurnished to do so, subject to the following conditions:\n\nThe above copyright notice and this permission notice shall be included in\nall copies or substantial portions of the Software.\n\nTHE SOFTWARE IS PROVIDED \"AS IS\", WITHOUT WARRANTY OF ANY KIND, EXPRESS OR\nIMPLIED, INCLUDING BUT NOT LIMITED TO THE WARRANTIES OF MERCHANTABILITY,\nFITNESS FOR A PARTICULAR PURPOSE AND NONINFRINGEMENT. IN NO EVENT SHALL THE\nAUTHORS OR COPYRIGHT HOLDERS BE LIABLE FOR ANY CLAIM, DAMAGES OR OTHER\nLIABILITY, WHETHER IN AN ACTION OF CONTRACT, TORT OR OTHERWISE, ARISING FROM,\nOUT OF OR IN CONNECTION WITH THE SOFTWARE OR THE USE OR OTHER DEALINGS IN\nTHE SOFTWARE.\n</details>",
      "metadata": {},
      "id": "9c3f3593-9678-40c8-aa96-d78c6cea0b5d"
    },
    {
      "cell_type": "code",
      "source": "import numpy as np\nimport numpy.linalg as la",
      "metadata": {
        "trusted": true
      },
      "execution_count": 1,
      "outputs": [],
      "id": "d3bc1af9-fdbf-459d-a778-94f733a8ffcd"
    },
    {
      "cell_type": "markdown",
      "source": "Make an example of a very poorly conditioned matrix, called the [Vandermonde matrix](https://en.wikipedia.org/wiki/Vandermonde_matrix).",
      "metadata": {},
      "id": "aa5c47a5-84ac-47d4-89dc-eb93011b3e17"
    },
    {
      "cell_type": "code",
      "source": "n = 20\nnodes = np.linspace(0, 1, n)\nA = nodes.reshape(-1, 1) ** np.arange(n)",
      "metadata": {
        "trusted": true
      },
      "execution_count": 2,
      "outputs": [],
      "id": "1f754487-a640-4417-9458-2eab86af4a46"
    },
    {
      "cell_type": "markdown",
      "source": "Check the condition number:",
      "metadata": {},
      "id": "c4e2ffc6-8df1-4435-bec6-df6c95877dae"
    },
    {
      "cell_type": "code",
      "source": "#clear\nla.cond(A, 2)",
      "metadata": {
        "trusted": true
      },
      "execution_count": 3,
      "outputs": [
        {
          "execution_count": 3,
          "output_type": "execute_result",
          "data": {
            "text/plain": "1.1386974885860262e+16"
          },
          "metadata": {}
        }
      ],
      "id": "3f3e4c86-70ab-4854-8575-d544f0354040"
    },
    {
      "cell_type": "markdown",
      "source": "Set up a \"true\" solution, and a right-hand side for a linear system:",
      "metadata": {},
      "id": "0ec7b383-7cfe-4949-873d-ea88b07db276"
    },
    {
      "cell_type": "code",
      "source": "xtrue = np.random.randn(n)\nb = A @ xtrue",
      "metadata": {
        "trusted": true
      },
      "execution_count": 4,
      "outputs": [],
      "id": "42c421b9-0fe3-4aba-8ef3-ef4b5c0279cf"
    },
    {
      "cell_type": "markdown",
      "source": "Solve it computationally, call the solution `xcomp`:",
      "metadata": {},
      "id": "3264dbc7-8652-4312-83f1-d67f8ee0c711"
    },
    {
      "cell_type": "code",
      "source": "#clear\nxcomp = mylinsolve(A, b)",
      "metadata": {
        "trusted": true
      },
      "execution_count": 7,
      "outputs": [],
      "id": "f4f974c8-a719-421b-8b5a-e6f37777ad0b"
    },
    {
      "cell_type": "markdown",
      "source": "Compute the **relative forward error** (i.e. the error in the solution):",
      "metadata": {},
      "id": "8d432d92-acfa-4ddd-ad98-a7a0c5ad0a75"
    },
    {
      "cell_type": "code",
      "source": "#clear\nla.norm(xcomp - xtrue, 2)/la.norm(xtrue, 2)",
      "metadata": {
        "trusted": true
      },
      "execution_count": 8,
      "outputs": [
        {
          "execution_count": 8,
          "output_type": "execute_result",
          "data": {
            "text/plain": "6.045039485389126"
          },
          "metadata": {}
        }
      ],
      "id": "81214f81-a176-4627-9ddf-549fb3d271d0"
    },
    {
      "cell_type": "markdown",
      "source": "Compute the\n\n- **relative backward error**\n- i.e. the relative error in the right-hand side\n- also known as the **relative residual**.",
      "metadata": {},
      "id": "2e2678f8-7948-4ca0-bf82-312eee3b08d0"
    },
    {
      "cell_type": "code",
      "source": "#clear\nla.norm(A@xcomp - b, 2)/la.norm(b, 2)",
      "metadata": {
        "trusted": true
      },
      "execution_count": 9,
      "outputs": [
        {
          "execution_count": 9,
          "output_type": "execute_result",
          "data": {
            "text/plain": "7.08631463572801e-11"
          },
          "metadata": {}
        }
      ],
      "id": "26fac4f3-5c53-49a6-9606-2c36e5cd1507"
    },
    {
      "cell_type": "markdown",
      "source": "### Input Perturbation\n\nNow *intentionally* perturb the right-hand side and repeat the experiment",
      "metadata": {},
      "id": "c8a11b12-ae15-4187-a37f-d76d9bbbb171"
    },
    {
      "cell_type": "code",
      "source": "#clear\nb_perturbed = b + np.random.randn(n) * 1e-14\nxcomp_perturbed = la.solve(A, b_perturbed)",
      "metadata": {
        "trusted": true
      },
      "execution_count": 10,
      "outputs": [],
      "id": "5209560e-3817-4952-a19f-fa4f9974587a"
    },
    {
      "cell_type": "markdown",
      "source": "Find the relative forward error vs `xtrue`:",
      "metadata": {},
      "id": "2a894393-8527-4d82-9c3e-350253483a92"
    },
    {
      "cell_type": "code",
      "source": "la.norm(xcomp_perturbed - xtrue, 2)/la.norm(xtrue, 2)",
      "metadata": {
        "trusted": true
      },
      "execution_count": 11,
      "outputs": [
        {
          "execution_count": 11,
          "output_type": "execute_result",
          "data": {
            "text/plain": "1.8575638755026467"
          },
          "metadata": {}
        }
      ],
      "id": "d2012478-6bb4-4e73-9363-7eacf4bd1b06"
    },
    {
      "cell_type": "markdown",
      "source": "Find the relative forward error vs `xcomp`:",
      "metadata": {},
      "id": "52d65b10-bf83-48f5-aa58-1663241d779f"
    },
    {
      "cell_type": "code",
      "source": "la.norm(xcomp_perturbed - xcomp, 2)/la.norm(xtrue, 2)",
      "metadata": {
        "trusted": true
      },
      "execution_count": 12,
      "outputs": [
        {
          "execution_count": 12,
          "output_type": "execute_result",
          "data": {
            "text/plain": "4.189407948984551"
          },
          "metadata": {}
        }
      ],
      "id": "60e448e6-ae7c-4688-aa04-729b345f2c9b"
    },
    {
      "cell_type": "markdown",
      "source": "And the relative backward error:",
      "metadata": {},
      "id": "8785bf6e-983d-4348-b087-6adea00f9f6c"
    },
    {
      "cell_type": "code",
      "source": "la.norm(A@xcomp_perturbed - b, 2)/la.norm(b, 2)",
      "metadata": {
        "trusted": true
      },
      "execution_count": 13,
      "outputs": [
        {
          "execution_count": 13,
          "output_type": "execute_result",
          "data": {
            "text/plain": "7.421496319997422e-15"
          },
          "metadata": {}
        }
      ],
      "id": "0caa64b2-e39c-478c-b44f-6778726ed134"
    },
    {
      "cell_type": "markdown",
      "source": "### Can we take backward stability for granted?\n\nHere's code for (mostly) straightforward Gauss-Jordan elimination to solve a linear system:",
      "metadata": {},
      "id": "31acad74-a796-4fea-956f-387ea1cb0524"
    },
    {
      "cell_type": "code",
      "source": "def mylinsolve(A, b):\n    n = len(A)\n    Ab = np.concatenate([A, b.reshape(-1, 1)], axis=1)\n    \n    # reverse the rows\n    Ab = Ab[::-1]\n    \n    for col in range(n):\n        Ab[col] /= Ab[col, col]\n    \n        for row in range(n):\n            if col == row:\n                continue\n            Ab[row] -= Ab[col]*Ab[row, col]\n\n    return Ab[:, -1]",
      "metadata": {
        "trusted": true
      },
      "execution_count": 14,
      "outputs": [],
      "id": "356bafaf-4534-4f1a-9a61-4b4f05e20e58"
    },
    {
      "cell_type": "markdown",
      "source": "Test that it solves linear systems:",
      "metadata": {},
      "id": "73302566-8590-44e9-b20d-9ea185d39332"
    },
    {
      "cell_type": "code",
      "source": "Atest = np.random.randn(5, 5)\nbtest = np.random.randn(5)\n\nxtest = la.solve(Atest, btest)\n\nla.norm(mylinsolve(Atest, btest) - xtest, 2) / la.norm(xtest, 2)",
      "metadata": {
        "trusted": true
      },
      "execution_count": 15,
      "outputs": [
        {
          "execution_count": 15,
          "output_type": "execute_result",
          "data": {
            "text/plain": "6.097520505420507e-16"
          },
          "metadata": {}
        }
      ],
      "id": "12bab70c-df76-41fe-93d6-ea6abc590f46"
    },
    {
      "cell_type": "markdown",
      "source": "Now repeat the above experiments with `mylinsolve`.",
      "metadata": {},
      "id": "8d2a1755-abd1-42f1-ad66-478baf45cbea"
    },
    {
      "cell_type": "code",
      "source": "",
      "metadata": {},
      "execution_count": null,
      "outputs": [],
      "id": "59073fe0-5c89-4e11-b7f4-63a11396228a"
    }
  ]
}
{
  "cells": [
    {
      "cell_type": "markdown",
      "metadata": {},
      "source": [
        "# Floating Point and the Harmonic Series\n",
        "Copyright (C) 2010-2020 Luke Olson<br>\n",
        "Copyright (C) 2020 Andreas Kloeckner\n",
        "\n",
        "<details>\n",
        "<summary>MIT License</summary>\n",
        "Permission is hereby granted, free of charge, to any person obtaining a copy\n",
        "of this software and associated documentation files (the \"Software\"), to deal\n",
        "in the Software without restriction, including without limitation the rights\n",
        "to use, copy, modify, merge, publish, distribute, sublicense, and/or sell\n",
        "copies of the Software, and to permit persons to whom the Software is\n",
        "furnished to do so, subject to the following conditions:\n",
        "\n",
        "The above copyright notice and this permission notice shall be included in\n",
        "all copies or substantial portions of the Software.\n",
        "\n",
        "THE SOFTWARE IS PROVIDED \"AS IS\", WITHOUT WARRANTY OF ANY KIND, EXPRESS OR\n",
        "IMPLIED, INCLUDING BUT NOT LIMITED TO THE WARRANTIES OF MERCHANTABILITY,\n",
        "FITNESS FOR A PARTICULAR PURPOSE AND NONINFRINGEMENT. IN NO EVENT SHALL THE\n",
        "AUTHORS OR COPYRIGHT HOLDERS BE LIABLE FOR ANY CLAIM, DAMAGES OR OTHER\n",
        "LIABILITY, WHETHER IN AN ACTION OF CONTRACT, TORT OR OTHERWISE, ARISING FROM,\n",
        "OUT OF OR IN CONNECTION WITH THE SOFTWARE OR THE USE OR OTHER DEALINGS IN\n",
        "THE SOFTWARE.\n",
        "</details>"
      ]
    },
    {
      "cell_type": "markdown",
      "metadata": {},
      "source": [
        "You may know from math that\n",
        "$$\n",
        "\\sum_{n=1}^\\infty \\frac 1n=\\infty.\n",
        "$$\n",
        "Let's see what we get using floating point:"
      ]
    },
    {
      "cell_type": "code",
      "execution_count": 1,
      "metadata": {},
      "outputs": [],
      "source": [
        "import numpy as np"
      ]
    },
    {
      "cell_type": "code",
      "execution_count": 2,
      "metadata": {
        "collapsed": false,
        "jupyter": {
          "outputs_hidden": false
        }
      },
      "outputs": [
        {
          "name": "stdout",
          "output_type": "stream",
          "text": [
            "1/n = 5e-06, sum0 = 12.7828\n",
            "1/n = 2.5e-06, sum0 = 13.4814\n",
            "1/n = 1.66667e-06, sum0 = 13.8814\n",
            "1/n = 1.25e-06, sum0 = 14.1666\n",
            "1/n = 1e-06, sum0 = 14.3574\n",
            "1/n = 8.33333e-07, sum0 = 14.5481\n",
            "1/n = 7.14286e-07, sum0 = 14.7388\n",
            "1/n = 6.25e-07, sum0 = 14.9296\n",
            "1/n = 5.55556e-07, sum0 = 15.1203\n",
            "1/n = 5e-07, sum0 = 15.311\n",
            "1/n = 4.54545e-07, sum0 = 15.4037\n",
            "1/n = 4.16667e-07, sum0 = 15.4037\n",
            "1/n = 3.84615e-07, sum0 = 15.4037\n",
            "1/n = 3.57143e-07, sum0 = 15.4037\n",
            "1/n = 3.33333e-07, sum0 = 15.4037\n",
            "1/n = 3.125e-07, sum0 = 15.4037\n",
            "1/n = 2.94118e-07, sum0 = 15.4037\n",
            "1/n = 2.77778e-07, sum0 = 15.4037\n",
            "1/n = 2.63158e-07, sum0 = 15.4037\n",
            "1/n = 2.5e-07, sum0 = 15.4037\n",
            "1/n = 2.38095e-07, sum0 = 15.4037\n",
            "1/n = 2.27273e-07, sum0 = 15.4037\n",
            "1/n = 2.17391e-07, sum0 = 15.4037\n",
            "1/n = 2.08333e-07, sum0 = 15.4037\n",
            "1/n = 2e-07, sum0 = 15.4037\n",
            "1/n = 1.92308e-07, sum0 = 15.4037\n",
            "1/n = 1.85185e-07, sum0 = 15.4037\n",
            "1/n = 1.78571e-07, sum0 = 15.4037\n",
            "1/n = 1.72414e-07, sum0 = 15.4037\n",
            "1/n = 1.66667e-07, sum0 = 15.4037\n",
            "1/n = 1.6129e-07, sum0 = 15.4037\n",
            "1/n = 1.5625e-07, sum0 = 15.4037\n",
            "1/n = 1.51515e-07, sum0 = 15.4037\n",
            "1/n = 1.47059e-07, sum0 = 15.4037\n",
            "1/n = 1.42857e-07, sum0 = 15.4037\n",
            "1/n = 1.38889e-07, sum0 = 15.4037\n",
            "1/n = 1.35135e-07, sum0 = 15.4037\n",
            "1/n = 1.31579e-07, sum0 = 15.4037\n",
            "1/n = 1.28205e-07, sum0 = 15.4037\n",
            "1/n = 1.25e-07, sum0 = 15.4037\n",
            "1/n = 1.21951e-07, sum0 = 15.4037\n",
            "1/n = 1.19048e-07, sum0 = 15.4037\n",
            "1/n = 1.16279e-07, sum0 = 15.4037\n",
            "1/n = 1.13636e-07, sum0 = 15.4037\n",
            "1/n = 1.11111e-07, sum0 = 15.4037\n",
            "1/n = 1.08696e-07, sum0 = 15.4037\n",
            "1/n = 1.06383e-07, sum0 = 15.4037\n",
            "1/n = 1.04167e-07, sum0 = 15.4037\n",
            "1/n = 1.02041e-07, sum0 = 15.4037\n",
            "1/n = 1e-07, sum0 = 15.4037\n",
            "1/n = 9.80392e-08, sum0 = 15.4037\n",
            "1/n = 9.61538e-08, sum0 = 15.4037\n",
            "1/n = 9.43396e-08, sum0 = 15.4037\n",
            "1/n = 9.25926e-08, sum0 = 15.4037\n",
            "1/n = 9.09091e-08, sum0 = 15.4037\n",
            "1/n = 8.92857e-08, sum0 = 15.4037\n",
            "1/n = 8.77193e-08, sum0 = 15.4037\n",
            "1/n = 8.62069e-08, sum0 = 15.4037\n",
            "1/n = 8.47458e-08, sum0 = 15.4037\n",
            "1/n = 8.33333e-08, sum0 = 15.4037\n",
            "1/n = 8.19672e-08, sum0 = 15.4037\n",
            "1/n = 8.06452e-08, sum0 = 15.4037\n",
            "1/n = 7.93651e-08, sum0 = 15.4037\n",
            "1/n = 7.8125e-08, sum0 = 15.4037\n",
            "1/n = 7.69231e-08, sum0 = 15.4037\n",
            "1/n = 7.57576e-08, sum0 = 15.4037\n",
            "1/n = 7.46269e-08, sum0 = 15.4037\n",
            "1/n = 7.35294e-08, sum0 = 15.4037\n",
            "1/n = 7.24638e-08, sum0 = 15.4037\n",
            "1/n = 7.14286e-08, sum0 = 15.4037\n",
            "1/n = 7.04225e-08, sum0 = 15.4037\n",
            "1/n = 6.94444e-08, sum0 = 15.4037\n",
            "1/n = 6.84932e-08, sum0 = 15.4037\n",
            "1/n = 6.75676e-08, sum0 = 15.4037\n",
            "1/n = 6.66667e-08, sum0 = 15.4037\n",
            "1/n = 6.57895e-08, sum0 = 15.4037\n",
            "1/n = 6.49351e-08, sum0 = 15.4037\n",
            "1/n = 6.41026e-08, sum0 = 15.4037\n",
            "1/n = 6.32911e-08, sum0 = 15.4037\n",
            "1/n = 6.25e-08, sum0 = 15.4037\n",
            "1/n = 6.17284e-08, sum0 = 15.4037\n",
            "1/n = 6.09756e-08, sum0 = 15.4037\n",
            "1/n = 6.0241e-08, sum0 = 15.4037\n",
            "1/n = 5.95238e-08, sum0 = 15.4037\n",
            "1/n = 5.88235e-08, sum0 = 15.4037\n"
          ]
        },
        {
          "ename": "KeyboardInterrupt",
          "evalue": "",
          "output_type": "error",
          "traceback": [
            "\u001b[0;31m---------------------------------------------------------------------------\u001b[0m",
            "\u001b[0;31mKeyboardInterrupt\u001b[0m                         Traceback (most recent call last)",
            "\u001b[0;32m<ipython-input-2-ba1bc8ebcccd>\u001b[0m in \u001b[0;36m<module>\u001b[0;34m\u001b[0m\n\u001b[1;32m      8\u001b[0m     \u001b[0mn\u001b[0m \u001b[0;34m+=\u001b[0m \u001b[0;36m1\u001b[0m\u001b[0;34m\u001b[0m\u001b[0;34m\u001b[0m\u001b[0m\n\u001b[1;32m      9\u001b[0m     \u001b[0mlast_sum\u001b[0m \u001b[0;34m=\u001b[0m \u001b[0mmy_sum\u001b[0m\u001b[0;34m\u001b[0m\u001b[0;34m\u001b[0m\u001b[0m\n\u001b[0;32m---> 10\u001b[0;31m     \u001b[0mmy_sum\u001b[0m \u001b[0;34m+=\u001b[0m \u001b[0mfloat_type\u001b[0m\u001b[0;34m(\u001b[0m\u001b[0;36m1\u001b[0m \u001b[0;34m/\u001b[0m \u001b[0mn\u001b[0m\u001b[0;34m)\u001b[0m\u001b[0;34m\u001b[0m\u001b[0;34m\u001b[0m\u001b[0m\n\u001b[0m\u001b[1;32m     11\u001b[0m \u001b[0;34m\u001b[0m\u001b[0m\n\u001b[1;32m     12\u001b[0m     \u001b[0;32mif\u001b[0m \u001b[0mn\u001b[0m \u001b[0;34m%\u001b[0m \u001b[0;36m200000\u001b[0m \u001b[0;34m==\u001b[0m \u001b[0;36m0\u001b[0m\u001b[0;34m:\u001b[0m\u001b[0;34m\u001b[0m\u001b[0;34m\u001b[0m\u001b[0m\n",
            "\u001b[0;31mKeyboardInterrupt\u001b[0m: "
          ]
        }
      ],
      "source": [
        "n = int(0)\n",
        "\n",
        "float_type = np.float32\n",
        "\n",
        "my_sum = float_type(0)\n",
        "\n",
        "while True:\n",
        "    n += 1\n",
        "    last_sum = my_sum\n",
        "    my_sum += float_type(1 / n)\n",
        "    \n",
        "    if n % 200000 == 0:\n",
        "        print(\"1/n = %g, sum0 = %g\"%(1.0/n, my_sum))\n",
        "        "
      ]
    },
    {
      "cell_type": "code",
      "execution_count": null,
      "metadata": {
        "collapsed": false,
        "jupyter": {
          "outputs_hidden": false
        }
      },
      "outputs": [],
      "source": []
    },
    {
      "cell_type": "code",
      "execution_count": null,
      "metadata": {},
      "outputs": [],
      "source": []
    }
  ],
  "metadata": {
    "kernelspec": {
      "display_name": "Python 3",
      "language": "python",
      "name": "python3"
    },
    "language_info": {
      "codemirror_mode": {
        "name": "ipython",
        "version": 3
      },
      "file_extension": ".py",
      "mimetype": "text/x-python",
      "name": "python",
      "nbconvert_exporter": "python",
      "pygments_lexer": "ipython3",
      "version": "3.8.3"
    }
  },
  "nbformat": 4,
  "nbformat_minor": 4
}
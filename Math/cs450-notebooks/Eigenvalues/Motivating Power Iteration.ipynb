{
  "cells": [
    {
      "cell_type": "markdown",
      "id": "d533546e-f1f6-402e-91bb-a462d95a817a",
      "metadata": {},
      "source": [
        "# Motivating Power Iteration\n",
        "\n",
        "Copyright (C) 2022 Andreas Kloeckner\n",
        "\n",
        "<details>\n",
        "<summary>MIT License</summary>\n",
        "Permission is hereby granted, free of charge, to any person obtaining a copy\n",
        "of this software and associated documentation files (the \"Software\"), to deal\n",
        "in the Software without restriction, including without limitation the rights\n",
        "to use, copy, modify, merge, publish, distribute, sublicense, and/or sell\n",
        "copies of the Software, and to permit persons to whom the Software is\n",
        "furnished to do so, subject to the following conditions:\n",
        "\n",
        "The above copyright notice and this permission notice shall be included in\n",
        "all copies or substantial portions of the Software.\n",
        "\n",
        "THE SOFTWARE IS PROVIDED \"AS IS\", WITHOUT WARRANTY OF ANY KIND, EXPRESS OR\n",
        "IMPLIED, INCLUDING BUT NOT LIMITED TO THE WARRANTIES OF MERCHANTABILITY,\n",
        "FITNESS FOR A PARTICULAR PURPOSE AND NONINFRINGEMENT. IN NO EVENT SHALL THE\n",
        "AUTHORS OR COPYRIGHT HOLDERS BE LIABLE FOR ANY CLAIM, DAMAGES OR OTHER\n",
        "LIABILITY, WHETHER IN AN ACTION OF CONTRACT, TORT OR OTHERWISE, ARISING FROM,\n",
        "OUT OF OR IN CONNECTION WITH THE SOFTWARE OR THE USE OR OTHER DEALINGS IN\n",
        "THE SOFTWARE.\n",
        "</details>"
      ]
    },
    {
      "cell_type": "code",
      "execution_count": 97,
      "id": "26d91f23-9b11-43cf-a2b8-c40c5696fb49",
      "metadata": {},
      "outputs": [],
      "source": [
        "import numpy as np\n",
        "import numpy.linalg as la\n",
        "\n",
        "np.set_printoptions(linewidth=150, precision=3, suppress=True)"
      ]
    },
    {
      "cell_type": "markdown",
      "id": "24484c0c-4be8-441e-b95f-748fa159c334",
      "metadata": {},
      "source": [
        "Consider a random diagonal matrix $A$ with entries sorted by magnitude:"
      ]
    },
    {
      "cell_type": "code",
      "execution_count": 98,
      "id": "ffff97d2-cda2-4807-bc9e-e086683a940b",
      "metadata": {},
      "outputs": [
        {
          "data": {
            "text/plain": [
              "array([[ 1.885,  0.   ,  0.   ,  0.   ,  0.   ,  0.   ,  0.   ,  0.   ,  0.   ,  0.   ],\n",
              "       [ 0.   ,  1.251,  0.   ,  0.   ,  0.   ,  0.   ,  0.   ,  0.   ,  0.   ,  0.   ],\n",
              "       [ 0.   ,  0.   , -1.215,  0.   ,  0.   ,  0.   ,  0.   ,  0.   ,  0.   ,  0.   ],\n",
              "       [ 0.   ,  0.   ,  0.   , -1.19 ,  0.   ,  0.   ,  0.   ,  0.   ,  0.   ,  0.   ],\n",
              "       [ 0.   ,  0.   ,  0.   ,  0.   ,  1.044,  0.   ,  0.   ,  0.   ,  0.   ,  0.   ],\n",
              "       [ 0.   ,  0.   ,  0.   ,  0.   ,  0.   , -0.723,  0.   ,  0.   ,  0.   ,  0.   ],\n",
              "       [ 0.   ,  0.   ,  0.   ,  0.   ,  0.   ,  0.   , -0.716,  0.   ,  0.   ,  0.   ],\n",
              "       [ 0.   ,  0.   ,  0.   ,  0.   ,  0.   ,  0.   ,  0.   , -0.538,  0.   ,  0.   ],\n",
              "       [ 0.   ,  0.   ,  0.   ,  0.   ,  0.   ,  0.   ,  0.   ,  0.   ,  0.314,  0.   ],\n",
              "       [ 0.   ,  0.   ,  0.   ,  0.   ,  0.   ,  0.   ,  0.   ,  0.   ,  0.   , -0.062]])"
            ]
          },
          "execution_count": 98,
          "metadata": {},
          "output_type": "execute_result"
        }
      ],
      "source": [
        "n = 10\n",
        "eigvals = np.array(sorted(np.random.randn(n), key=abs, reverse=True))\n",
        "\n",
        "D = np.diag(eigvals)\n",
        "D"
      ]
    },
    {
      "cell_type": "code",
      "execution_count": 99,
      "id": "18805b9b-7ccd-4ddb-af76-0177919abaa5",
      "metadata": {},
      "outputs": [
        {
          "data": {
            "text/plain": [
              "array([[ 6.699,  0.   ,  0.   ,  0.   ,  0.   ,  0.   ,  0.   ,  0.   ,  0.   ,  0.   ],\n",
              "       [ 0.   ,  1.956,  0.   ,  0.   ,  0.   ,  0.   ,  0.   ,  0.   ,  0.   ,  0.   ],\n",
              "       [ 0.   ,  0.   , -1.792,  0.   ,  0.   ,  0.   ,  0.   ,  0.   ,  0.   ,  0.   ],\n",
              "       [ 0.   ,  0.   ,  0.   , -1.687,  0.   ,  0.   ,  0.   ,  0.   ,  0.   ,  0.   ],\n",
              "       [ 0.   ,  0.   ,  0.   ,  0.   ,  1.139,  0.   ,  0.   ,  0.   ,  0.   ,  0.   ],\n",
              "       [ 0.   ,  0.   ,  0.   ,  0.   ,  0.   , -0.378,  0.   ,  0.   ,  0.   ,  0.   ],\n",
              "       [ 0.   ,  0.   ,  0.   ,  0.   ,  0.   ,  0.   , -0.367,  0.   ,  0.   ,  0.   ],\n",
              "       [ 0.   ,  0.   ,  0.   ,  0.   ,  0.   ,  0.   ,  0.   , -0.156,  0.   ,  0.   ],\n",
              "       [ 0.   ,  0.   ,  0.   ,  0.   ,  0.   ,  0.   ,  0.   ,  0.   ,  0.031,  0.   ],\n",
              "       [ 0.   ,  0.   ,  0.   ,  0.   ,  0.   ,  0.   ,  0.   ,  0.   ,  0.   , -0.   ]])"
            ]
          },
          "execution_count": 99,
          "metadata": {},
          "output_type": "execute_result"
        }
      ],
      "source": [
        "D @ D @ D"
      ]
    },
    {
      "cell_type": "code",
      "execution_count": 100,
      "id": "f254d976-0fab-44fb-ad1e-5b6275f07899",
      "metadata": {},
      "outputs": [
        {
          "data": {
            "text/plain": [
              "array([[ 1.   ,  0.   ,  0.   ,  0.   ,  0.   ,  0.   ,  0.   ,  0.   ,  0.   ,  0.   ],\n",
              "       [ 0.   ,  0.292,  0.   ,  0.   ,  0.   ,  0.   ,  0.   ,  0.   ,  0.   ,  0.   ],\n",
              "       [ 0.   ,  0.   , -0.267,  0.   ,  0.   ,  0.   ,  0.   ,  0.   ,  0.   ,  0.   ],\n",
              "       [ 0.   ,  0.   ,  0.   , -0.252,  0.   ,  0.   ,  0.   ,  0.   ,  0.   ,  0.   ],\n",
              "       [ 0.   ,  0.   ,  0.   ,  0.   ,  0.17 ,  0.   ,  0.   ,  0.   ,  0.   ,  0.   ],\n",
              "       [ 0.   ,  0.   ,  0.   ,  0.   ,  0.   , -0.056,  0.   ,  0.   ,  0.   ,  0.   ],\n",
              "       [ 0.   ,  0.   ,  0.   ,  0.   ,  0.   ,  0.   , -0.055,  0.   ,  0.   ,  0.   ],\n",
              "       [ 0.   ,  0.   ,  0.   ,  0.   ,  0.   ,  0.   ,  0.   , -0.023,  0.   ,  0.   ],\n",
              "       [ 0.   ,  0.   ,  0.   ,  0.   ,  0.   ,  0.   ,  0.   ,  0.   ,  0.005,  0.   ],\n",
              "       [ 0.   ,  0.   ,  0.   ,  0.   ,  0.   ,  0.   ,  0.   ,  0.   ,  0.   , -0.   ]])"
            ]
          },
          "execution_count": 100,
          "metadata": {},
          "output_type": "execute_result"
        }
      ],
      "source": [
        "tmp = D @ D @ D\n",
        "tmp / tmp[0,0]"
      ]
    },
    {
      "cell_type": "code",
      "execution_count": 101,
      "id": "89eb6628-38be-43eb-84f0-8d38458d4bc9",
      "metadata": {},
      "outputs": [
        {
          "data": {
            "text/plain": [
              "array([[1.   , 0.   , 0.   , 0.   , 0.   , 0.   , 0.   , 0.   , 0.   , 0.   ],\n",
              "       [0.   , 0.007, 0.   , 0.   , 0.   , 0.   , 0.   , 0.   , 0.   , 0.   ],\n",
              "       [0.   , 0.   , 0.005, 0.   , 0.   , 0.   , 0.   , 0.   , 0.   , 0.   ],\n",
              "       [0.   , 0.   , 0.   , 0.004, 0.   , 0.   , 0.   , 0.   , 0.   , 0.   ],\n",
              "       [0.   , 0.   , 0.   , 0.   , 0.001, 0.   , 0.   , 0.   , 0.   , 0.   ],\n",
              "       [0.   , 0.   , 0.   , 0.   , 0.   , 0.   , 0.   , 0.   , 0.   , 0.   ],\n",
              "       [0.   , 0.   , 0.   , 0.   , 0.   , 0.   , 0.   , 0.   , 0.   , 0.   ],\n",
              "       [0.   , 0.   , 0.   , 0.   , 0.   , 0.   , 0.   , 0.   , 0.   , 0.   ],\n",
              "       [0.   , 0.   , 0.   , 0.   , 0.   , 0.   , 0.   , 0.   , 0.   , 0.   ],\n",
              "       [0.   , 0.   , 0.   , 0.   , 0.   , 0.   , 0.   , 0.   , 0.   , 0.   ]])"
            ]
          },
          "execution_count": 101,
          "metadata": {},
          "output_type": "execute_result"
        }
      ],
      "source": [
        "tmp = D @ D @ D @ D @ D @ D @ D @ D @ D @ D @ D @ D\n",
        "tmp / tmp[0,0]"
      ]
    },
    {
      "cell_type": "markdown",
      "id": "bd3dc317-dc03-436e-88ec-efe74355a7fa",
      "metadata": {},
      "source": [
        "This works just as well if the matrix is not diagonalized:"
      ]
    },
    {
      "cell_type": "code",
      "execution_count": 102,
      "id": "902a16d4-23ce-462e-b136-c2f979304fd3",
      "metadata": {},
      "outputs": [
        {
          "data": {
            "text/plain": [
              "array([[ 1.33 ,  0.656,  1.094,  0.629,  1.106, -1.3  , -0.694,  1.579,  1.381,  0.522],\n",
              "       [-0.214,  1.982,  1.776,  0.622,  0.847, -2.11 , -0.108, -0.326,  0.916,  1.782],\n",
              "       [-0.955, -2.707, -2.992, -1.069, -1.885,  2.917, -0.027, -1.266, -1.929, -1.922],\n",
              "       [-0.712,  0.177,  1.006,  0.605, -0.16 , -1.893, -0.055, -2.249, -0.044,  2.541],\n",
              "       [ 0.21 ,  1.607,  2.268,  1.413,  0.735, -2.988,  0.239, -0.364,  0.901,  2.205],\n",
              "       [-0.344, -0.097, -0.005,  0.547, -0.583, -1.129, -0.408, -1.355,  0.138,  1.416],\n",
              "       [ 1.047,  0.844,  0.494,  0.546,  0.927, -1.258, -1.565,  0.987,  1.51 ,  0.856],\n",
              "       [-0.352, -0.499, -0.523, -0.142, -0.536,  0.489,  0.264, -1.036, -0.355, -0.068],\n",
              "       [ 0.168, -0.536, -1.716, -0.638, -0.179,  1.161, -0.455,  0.932,  0.048, -0.889],\n",
              "       [ 0.595,  1.385,  1.777,  1.45 ,  0.671, -2.42 , -0.419, -0.339,  1.312,  2.072]])"
            ]
          },
          "execution_count": 102,
          "metadata": {},
          "output_type": "execute_result"
        }
      ],
      "source": [
        "X = np.random.randn(n, n)\n",
        "Xinv = la.inv(X)\n",
        "\n",
        "A = X @ D @ Xinv\n",
        "\n",
        "A"
      ]
    },
    {
      "cell_type": "code",
      "execution_count": 103,
      "id": "c6b53d49-b6bf-4630-a9d2-cdd54c962c91",
      "metadata": {},
      "outputs": [
        {
          "data": {
            "text/plain": [
              "array([[ 1.557,  2.417,  2.95 ,  1.724,  2.136, -3.487, -1.057,  1.349,  2.389,  2.634],\n",
              "       [-1.002,  5.675,  6.169,  3.656,  2.382, -7.841, -0.288, -3.128,  2.131,  7.586],\n",
              "       [-0.262, -8.049, -9.248, -5.048, -4.445, 10.674, -0.037,  1.463, -3.924, -9.556],\n",
              "       [-1.519,  1.341,  2.351,  2.241, -0.068, -4.451,  0.013, -4.634,  0.063,  5.279],\n",
              "       [-0.542,  4.897,  6.301,  3.962,  2.238, -7.78 ,  0.344, -2.794,  1.922,  7.372],\n",
              "       [-0.641,  0.636,  0.824,  1.309, -0.203, -2.521, -0.484, -2.502,  0.337,  2.828],\n",
              "       [ 1.087,  3.56 ,  3.438,  2.638,  2.337, -5.443, -2.596, -0.385,  3.111,  4.855],\n",
              "       [-0.502, -1.019, -1.112, -0.498, -0.836,  1.056,  0.775, -0.723, -0.8  , -0.742],\n",
              "       [ 0.454,  0.32 , -0.999,  0.089,  0.306, -0.517, -1.432,  0.261,  1.092,  0.449],\n",
              "       [ 0.114,  5.324,  6.541,  4.296,  2.788, -8.307, -0.38 , -2.238,  2.76 ,  7.73 ]])"
            ]
          },
          "execution_count": 103,
          "metadata": {},
          "output_type": "execute_result"
        }
      ],
      "source": [
        "A @ A @ A"
      ]
    },
    {
      "cell_type": "markdown",
      "id": "40af3beb-ae6d-4e9a-a2fb-207f862ac3ac",
      "metadata": {},
      "source": [
        "At first, it doesn't look like there is much happening, however:"
      ]
    },
    {
      "cell_type": "code",
      "execution_count": 104,
      "id": "bc5a4882-070d-4ca9-8d63-1236f9512169",
      "metadata": {},
      "outputs": [],
      "source": [
        "Apower = A @ A @ A @ A @ A @ A @ A @ A @ A @ A @ A @ A @ A"
      ]
    },
    {
      "cell_type": "code",
      "execution_count": 105,
      "id": "9c26178c-f8b3-457b-b43a-1fa911a9bcf2",
      "metadata": {},
      "outputs": [
        {
          "data": {
            "text/plain": [
              "array([[ 1.   ,  0.   ,  0.   , -0.   ,  0.   ,  0.   ,  0.   , -0.   , -0.   ,  0.   ],\n",
              "       [ 0.   ,  0.005, -0.   , -0.   , -0.   , -0.   ,  0.   ,  0.   , -0.   , -0.   ],\n",
              "       [ 0.   , -0.   , -0.003,  0.   ,  0.   ,  0.   , -0.   ,  0.   , -0.   ,  0.   ],\n",
              "       [ 0.   , -0.   ,  0.   , -0.003,  0.   ,  0.   ,  0.   , -0.   , -0.   , -0.   ],\n",
              "       [ 0.   , -0.   , -0.   , -0.   ,  0.   ,  0.   ,  0.   ,  0.   , -0.   , -0.   ],\n",
              "       [ 0.   , -0.   ,  0.   ,  0.   ,  0.   , -0.   , -0.   , -0.   ,  0.   ,  0.   ],\n",
              "       [ 0.   , -0.   ,  0.   ,  0.   ,  0.   ,  0.   , -0.   , -0.   ,  0.   ,  0.   ],\n",
              "       [ 0.   , -0.   , -0.   ,  0.   , -0.   ,  0.   ,  0.   , -0.   ,  0.   ,  0.   ],\n",
              "       [-0.   ,  0.   , -0.   ,  0.   , -0.   , -0.   , -0.   ,  0.   ,  0.   ,  0.   ],\n",
              "       [-0.   ,  0.   , -0.   ,  0.   , -0.   , -0.   ,  0.   ,  0.   ,  0.   ,  0.   ]])"
            ]
          },
          "execution_count": 105,
          "metadata": {},
          "output_type": "execute_result"
        }
      ],
      "source": [
        "tmp = Xinv @ Apower @ X\n",
        "tmp / tmp[0,0]"
      ]
    },
    {
      "cell_type": "markdown",
      "id": "3a78898b-80bd-4882-b982-19bf688ea11e",
      "metadata": {},
      "source": [
        "Let $\\boldsymbol{y} = A^{13} \\boldsymbol{x}$?"
      ]
    },
    {
      "cell_type": "code",
      "execution_count": 106,
      "id": "167a57b4-a5b6-4233-a478-997483505349",
      "metadata": {},
      "outputs": [],
      "source": [
        "x = np.random.randn(n)\n",
        "\n",
        "y = Apower @ x"
      ]
    },
    {
      "cell_type": "markdown",
      "id": "fc528dc3-0d01-4c60-ad45-8a24a943ac2b",
      "metadata": {},
      "source": [
        "Anything special about $\\boldsymbol{y}$?"
      ]
    },
    {
      "cell_type": "code",
      "execution_count": 107,
      "id": "b2c957ae-3fa9-4691-9483-1f83b6783c43",
      "metadata": {},
      "outputs": [
        {
          "data": {
            "text/plain": [
              "0.005644766209795598"
            ]
          },
          "execution_count": 107,
          "metadata": {},
          "output_type": "execute_result"
        }
      ],
      "source": [
        "#clear\n",
        "\n",
        "la.norm(A @ y - D[0,0] * y, 2)/la.norm(y, 2)"
      ]
    },
    {
      "cell_type": "markdown",
      "id": "344755be-980c-43d4-a40b-96758864e7c9",
      "metadata": {},
      "source": [
        "Is there a better way to compute $\\boldsymbol y$?"
      ]
    },
    {
      "cell_type": "code",
      "execution_count": 109,
      "id": "d20375a2-47aa-4de7-8a54-3163d44ddb82",
      "metadata": {},
      "outputs": [
        {
          "data": {
            "text/plain": [
              "5.779049855454484e-12"
            ]
          },
          "execution_count": 109,
          "metadata": {},
          "output_type": "execute_result"
        }
      ],
      "source": [
        "#clear\n",
        "y2 = x\n",
        "for i in range(13):\n",
        "    y2 = A @ y2\n",
        "    \n",
        "la.norm(y2-y)"
      ]
    },
    {
      "cell_type": "code",
      "execution_count": null,
      "id": "97bf67cf-a63f-4d32-ab59-7b8bf89f3f40",
      "metadata": {},
      "outputs": [],
      "source": []
    }
  ],
  "metadata": {
    "kernelspec": {
      "display_name": "Python 3 (ipykernel)",
      "language": "python",
      "name": "python3"
    },
    "language_info": {
      "codemirror_mode": {
        "name": "ipython",
        "version": 3
      },
      "file_extension": ".py",
      "mimetype": "text/x-python",
      "name": "python",
      "nbconvert_exporter": "python",
      "pygments_lexer": "ipython3",
      "version": "3.10.7"
    }
  },
  "nbformat": 4,
  "nbformat_minor": 5
}
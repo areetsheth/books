{
  "metadata": {
    "kernelspec": {
      "name": "xeus-python",
      "display_name": "Python (XPython)",
      "language": "python"
    },
    "language_info": {
      "file_extension": ".py",
      "mimetype": "text/x-python",
      "name": "python",
      "version": "3.10.2"
    }
  },
  "nbformat_minor": 5,
  "nbformat": 4,
  "cells": [
    {
      "cell_type": "markdown",
      "source": "# QR Iteration\n\nCopyright (C) 2023 Andreas Kloeckner\n\n<details>\n<summary>MIT License</summary>\nPermission is hereby granted, free of charge, to any person obtaining a copy\nof this software and associated documentation files (the \"Software\"), to deal\nin the Software without restriction, including without limitation the rights\nto use, copy, modify, merge, publish, distribute, sublicense, and/or sell\ncopies of the Software, and to permit persons to whom the Software is\nfurnished to do so, subject to the following conditions:\n\nThe above copyright notice and this permission notice shall be included in\nall copies or substantial portions of the Software.\n\nTHE SOFTWARE IS PROVIDED \"AS IS\", WITHOUT WARRANTY OF ANY KIND, EXPRESS OR\nIMPLIED, INCLUDING BUT NOT LIMITED TO THE WARRANTIES OF MERCHANTABILITY,\nFITNESS FOR A PARTICULAR PURPOSE AND NONINFRINGEMENT. IN NO EVENT SHALL THE\nAUTHORS OR COPYRIGHT HOLDERS BE LIABLE FOR ANY CLAIM, DAMAGES OR OTHER\nLIABILITY, WHETHER IN AN ACTION OF CONTRACT, TORT OR OTHERWISE, ARISING FROM,\nOUT OF OR IN CONNECTION WITH THE SOFTWARE OR THE USE OR OTHER DEALINGS IN\nTHE SOFTWARE.\n</details>",
      "metadata": {},
      "id": "d65a2bbd-f0f9-451f-a246-554ebdf206fa"
    },
    {
      "cell_type": "code",
      "source": "import numpy as np\nimport numpy.linalg as la\n\nnp.set_printoptions(linewidth=120)",
      "metadata": {},
      "execution_count": 6,
      "outputs": [],
      "id": "b1c3421b-ba65-43b8-a3dd-07f3925cdcf9"
    },
    {
      "cell_type": "markdown",
      "source": "Make a matrix with given eigenvalues:",
      "metadata": {},
      "id": "a2caac27-4d67-4faa-a3b9-6a26170a0e45"
    },
    {
      "cell_type": "code",
      "source": "n = 5\n\nnp.random.seed(70)\neigvecs = np.random.randn(n, n)\neigvals = np.sort(np.random.randn(n))\n\nA = np.dot(la.solve(eigvecs, np.diag(eigvals)), eigvecs)\nprint(eigvals)",
      "metadata": {},
      "execution_count": 7,
      "outputs": [
        {
          "name": "stdout",
          "output_type": "stream",
          "text": "[-1.3657822  -0.78460489 -0.08829521  0.30824369  0.52110266]\n"
        }
      ],
      "id": "52ce9a98-7c28-42c6-8964-32fb64dcd6ea"
    },
    {
      "cell_type": "markdown",
      "source": "## Unshifted QR",
      "metadata": {},
      "id": "29aaff9f-da2d-4a94-8b36-0801c6aa2c04"
    },
    {
      "cell_type": "code",
      "source": "X = A\nQall = np.eye(n)",
      "metadata": {},
      "execution_count": 121,
      "outputs": [],
      "id": "71c8c905-d51c-4ed1-b8d3-80abdb69c98e"
    },
    {
      "cell_type": "code",
      "source": "#clear\nQ, R = la.qr(X)\nX = R @ Q\n\nQall = Qall @ Q\n\nprint(X)",
      "metadata": {},
      "execution_count": 142,
      "outputs": [
        {
          "name": "stdout",
          "output_type": "stream",
          "text": "[[-1.36578253e+00  8.75139040e-02  3.03786794e+00  2.62459350e-01  2.97606186e-01]\n\n [-2.24915745e-06 -7.84620834e-01 -4.58283345e-01  1.38868353e+00 -2.45154950e-01]\n\n [ 1.07650630e-09  4.64043042e-05  5.21117944e-01  1.51976500e-01 -7.37805721e-02]\n\n [ 1.84131018e-14  8.27020225e-10  1.39850164e-06  3.08244689e-01  1.76856522e-01]\n\n [-4.46854645e-26  4.39962637e-21 -5.92936598e-17  3.37890623e-12 -8.82952134e-02]]\n"
        }
      ],
      "id": "3e7fb4fb-e6f1-4b08-8dc3-766d0839190a"
    },
    {
      "cell_type": "code",
      "source": "np.tril(X, -1)",
      "metadata": {},
      "execution_count": 169,
      "outputs": [
        {
          "execution_count": 169,
          "output_type": "execute_result",
          "data": {
            "text/plain": [
              "array([[ 0.00000000e+000,  0.00000000e+000,  0.00000000e+000,  0.00000000e+000,  0.00000000e+000],\n",
              "       [-3.53477485e-033,  0.00000000e+000,  0.00000000e+000,  0.00000000e+000,  0.00000000e+000],\n",
              "       [-3.72649019e-043,  8.68015875e-012,  0.00000000e+000,  0.00000000e+000,  0.00000000e+000],\n",
              "       [ 1.80007802e-085,  1.09679232e-053, -1.15248643e-043,  0.00000000e+000,  0.00000000e+000],\n",
              "       [ 3.51450476e-152, -2.20139581e-120,  8.11711939e-110,  5.61178424e-068,  0.00000000e+000]])"
            ]
          },
          "metadata": {}
        }
      ],
      "id": "5ca5b671-eab2-4386-8ad5-acc27e3b98af"
    },
    {
      "cell_type": "code",
      "source": "la.norm(np.tril(X, -1))",
      "metadata": {},
      "execution_count": 170,
      "outputs": [
        {
          "execution_count": 170,
          "output_type": "execute_result",
          "data": {
            "text/plain": [
              "8.680158751671073e-12"
            ]
          },
          "metadata": {}
        }
      ],
      "id": "a389e010-8d14-4635-9a88-77a03e8bf7de"
    },
    {
      "cell_type": "code",
      "source": "la.norm(A - Qall @ X @ Qall.T, 2) / la.norm(A, 2)",
      "metadata": {},
      "execution_count": 143,
      "outputs": [
        {
          "execution_count": 143,
          "output_type": "execute_result",
          "data": {
            "text/plain": [
              "1.572363044898993e-15"
            ]
          },
          "metadata": {}
        }
      ],
      "id": "c4597364-70c5-48c9-b614-6ef1d84d0164"
    },
    {
      "cell_type": "markdown",
      "source": "## Shifted QR",
      "metadata": {},
      "id": "933cede8-1150-4d71-96b2-353b22f44b10"
    },
    {
      "cell_type": "code",
      "source": "X = A\nQall = np.eye(n)",
      "metadata": {},
      "execution_count": 145,
      "outputs": [],
      "id": "98209f51-fcd7-4abd-afd8-083abc406a73"
    },
    {
      "cell_type": "code",
      "source": "#clear\ni = -4\nsigma = X[i,i]\nQ, R = la.qr(X - sigma*np.eye(n))\nX = R @ Q + sigma*np.eye(n)\n\nQall = Qall @ Q\n\nprint(X)",
      "metadata": {},
      "execution_count": 164,
      "outputs": [
        {
          "name": "stdout",
          "output_type": "stream",
          "text": "[[-1.36578220e+000  8.74081894e-002 -7.91894537e-001  1.33958935e+000 -2.63903577e+000]\n\n [-3.53477485e-033 -7.84604886e-001  8.67481345e-001 -1.12831918e+000 -4.15900506e-001]\n\n [-3.72649019e-043  8.68015875e-012 -8.82952134e-002 -1.96984053e-001  2.33745979e-002]\n\n [ 1.80007802e-085  1.09679232e-053 -1.15248643e-043  3.08243691e-001 -1.43127333e-001]\n\n [ 3.51450476e-152 -2.20139581e-120  8.11711939e-110  5.61178424e-068  5.21102657e-001]]\n"
        }
      ],
      "id": "2092b1d0-bff6-484b-98b1-bc6983b4a43d"
    },
    {
      "cell_type": "markdown",
      "source": "To compare convergence speed, count iterations until left-of-diagonal entries decay below $10^{-10}$.",
      "metadata": {},
      "id": "7580f462-72fc-44af-ae36-758c763b3ba5"
    },
    {
      "cell_type": "code",
      "source": "la.norm(np.tril(X, -1))",
      "metadata": {},
      "execution_count": 172,
      "outputs": [
        {
          "execution_count": 172,
          "output_type": "execute_result",
          "data": {
            "text/plain": [
              "8.680158751671073e-12"
            ]
          },
          "metadata": {}
        }
      ],
      "id": "56e796e1-8366-4a06-ac1b-6b6dd5846af9"
    },
    {
      "cell_type": "code",
      "source": "la.norm(A - Qall @ X @ Qall.T, 2) / la.norm(A, 2)",
      "metadata": {},
      "execution_count": 173,
      "outputs": [
        {
          "execution_count": 173,
          "output_type": "execute_result",
          "data": {
            "text/plain": [
              "1.5498995078019794e-15"
            ]
          },
          "metadata": {}
        }
      ],
      "id": "963c0c73-252f-4d0a-8cdf-513e1ea84db4"
    },
    {
      "cell_type": "code",
      "source": "",
      "metadata": {},
      "execution_count": null,
      "outputs": [],
      "id": "b306283d-f477-46cd-bada-4843a02a7064"
    }
  ]
}
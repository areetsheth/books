{
  "metadata": {
    "kernelspec": {
      "name": "xeus-python",
      "display_name": "Python (XPython)",
      "language": "python"
    },
    "language_info": {
      "file_extension": ".py",
      "mimetype": "text/x-python",
      "name": "python",
      "version": "3.10.2"
    }
  },
  "nbformat_minor": 4,
  "nbformat": 4,
  "cells": [
    {
      "cell_type": "markdown",
      "source": "# Arnoldi Iteration\n\nCopyright (C) 2020 Andreas Kloeckner\n\n<details>\n<summary>MIT License</summary>\nPermission is hereby granted, free of charge, to any person obtaining a copy\nof this software and associated documentation files (the \"Software\"), to deal\nin the Software without restriction, including without limitation the rights\nto use, copy, modify, merge, publish, distribute, sublicense, and/or sell\ncopies of the Software, and to permit persons to whom the Software is\nfurnished to do so, subject to the following conditions:\n\nThe above copyright notice and this permission notice shall be included in\nall copies or substantial portions of the Software.\n\nTHE SOFTWARE IS PROVIDED \"AS IS\", WITHOUT WARRANTY OF ANY KIND, EXPRESS OR\nIMPLIED, INCLUDING BUT NOT LIMITED TO THE WARRANTIES OF MERCHANTABILITY,\nFITNESS FOR A PARTICULAR PURPOSE AND NONINFRINGEMENT. IN NO EVENT SHALL THE\nAUTHORS OR COPYRIGHT HOLDERS BE LIABLE FOR ANY CLAIM, DAMAGES OR OTHER\nLIABILITY, WHETHER IN AN ACTION OF CONTRACT, TORT OR OTHERWISE, ARISING FROM,\nOUT OF OR IN CONNECTION WITH THE SOFTWARE OR THE USE OR OTHER DEALINGS IN\nTHE SOFTWARE.\n</details>",
      "metadata": {}
    },
    {
      "cell_type": "code",
      "source": "import numpy as np\nimport numpy.linalg as la\n\nimport matplotlib.pyplot as pt",
      "metadata": {
        "collapsed": false,
        "jupyter": {
          "outputs_hidden": false
        }
      },
      "execution_count": 1,
      "outputs": []
    },
    {
      "cell_type": "markdown",
      "source": "Let us make a matrix with a defined set of eigenvalues and eigenvectors, given by `eigvals` and `eigvecs`.",
      "metadata": {}
    },
    {
      "cell_type": "code",
      "source": "np.random.seed(40)\n\n# Generate matrix with eigenvalues 1...25\nn = 25\neigvals = np.linspace(1., n, n)\neigvecs = np.random.randn(n, n)\nprint(eigvals)\n\nA = la.solve(eigvecs, np.dot(np.diag(eigvals), eigvecs))\nprint(la.eig(A)[0])",
      "metadata": {
        "collapsed": false,
        "jupyter": {
          "outputs_hidden": false
        }
      },
      "execution_count": 2,
      "outputs": [
        {
          "name": "stdout",
          "output_type": "stream",
          "text": "[ 1.  2.  3.  4.  5.  6.  7.  8.  9. 10. 11. 12. 13. 14. 15. 16. 17. 18.\n\n 19. 20. 21. 22. 23. 24. 25.]\n\n[25. 24. 23.  1.  2.  3. 22.  4. 21. 20.  5.  6.  7. 19. 18.  8.  9. 17.\n\n 16. 10. 11. 12. 15. 14. 13.]\n"
        }
      ]
    },
    {
      "cell_type": "markdown",
      "source": "## Initialization",
      "metadata": {}
    },
    {
      "cell_type": "markdown",
      "source": "Set up $Q$ and $H$:",
      "metadata": {}
    },
    {
      "cell_type": "code",
      "source": "Q = np.zeros((n, n))\nH = np.zeros((n, n))\n\nk = 0",
      "metadata": {
        "collapsed": false,
        "jupyter": {
          "outputs_hidden": false
        }
      },
      "execution_count": 3,
      "outputs": []
    },
    {
      "cell_type": "markdown",
      "source": "Pick a starting vector, normalize it",
      "metadata": {}
    },
    {
      "cell_type": "code",
      "source": "x0 = np.random.randn(n)\nx0 = x0/la.norm(x0)\n\n# Poke it into the first column of Q\nQ[:, k] = x0\n\ndel x0",
      "metadata": {},
      "execution_count": 4,
      "outputs": []
    },
    {
      "cell_type": "markdown",
      "source": "Make a list to save arrays of Ritz values:",
      "metadata": {}
    },
    {
      "cell_type": "code",
      "source": "ritz_values = []",
      "metadata": {},
      "execution_count": 5,
      "outputs": []
    },
    {
      "cell_type": "markdown",
      "source": "## Algorithm",
      "metadata": {}
    },
    {
      "cell_type": "markdown",
      "source": "Carry out one iteration of Arnoldi iteration.\n\nRun this cell in-place (Ctrl-Enter) until H is filled.",
      "metadata": {}
    },
    {
      "cell_type": "code",
      "source": "print(k)\n\nu = A @ Q[:, k]\n\n# Carry out Gram-Schmidt on u against Q\nfor j in range(k+1):\n    qj = Q[:, j]\n    H[j,k] = qj @ u\n    u = u - H[j,k]*qj\n\nif k+1 < n:\n    H[k+1, k] = la.norm(u)\n    Q[:, k+1] = u/H[k+1, k]\n\nk += 1\n\npt.spy(H)\n\nritz_values.append(la.eig(H)[0])",
      "metadata": {
        "collapsed": false,
        "jupyter": {
          "outputs_hidden": false
        }
      },
      "execution_count": 30,
      "outputs": [
        {
          "name": "stdout",
          "output_type": "stream",
          "text": "24\n"
        },
        {
          "output_type": "display_data",
          "data": {
            "image/png": "[encoded data removed]",
            "text/plain": [
              "<Figure size 432x288 with 1 Axes>"
            ]
          },
          "metadata": {
            "needs_background": "light"
          }
        }
      ]
    },
    {
      "cell_type": "markdown",
      "source": "Check that $Q^T A Q =H$:",
      "metadata": {}
    },
    {
      "cell_type": "code",
      "source": "la.norm(Q.T @ A @ Q - H)/ la.norm(A)",
      "metadata": {
        "collapsed": false,
        "jupyter": {
          "outputs_hidden": false
        }
      },
      "execution_count": 31,
      "outputs": [
        {
          "execution_count": 31,
          "output_type": "execute_result",
          "data": {
            "text/plain": [
              "1.992040740292051e-08"
            ]
          },
          "metadata": {}
        }
      ]
    },
    {
      "cell_type": "markdown",
      "source": "Check that Q is orthogonal:",
      "metadata": {}
    },
    {
      "cell_type": "code",
      "source": "la.norm(Q.T @ Q - np.eye(n))",
      "metadata": {
        "collapsed": false,
        "jupyter": {
          "outputs_hidden": false
        }
      },
      "execution_count": 32,
      "outputs": [
        {
          "execution_count": 32,
          "output_type": "execute_result",
          "data": {
            "text/plain": [
              "7.675050192387198e-08"
            ]
          },
          "metadata": {}
        }
      ]
    },
    {
      "cell_type": "markdown",
      "source": "## Plot convergence of Ritz values",
      "metadata": {}
    },
    {
      "cell_type": "markdown",
      "source": "Enable the Ritz value collection above to make this work.",
      "metadata": {}
    },
    {
      "cell_type": "code",
      "source": "for i, rv in enumerate(ritz_values):\n    pt.plot([i] * len(rv), rv, \"x\")",
      "metadata": {
        "collapsed": false,
        "jupyter": {
          "outputs_hidden": false
        }
      },
      "execution_count": 33,
      "outputs": [
        {
          "name": "stderr",
          "output_type": "stream",
          "text": "/home/andreas/src/env-3.8/lib/python3.8/site-packages/numpy/core/_asarray.py:85: ComplexWarning: Casting complex values to real discards the imaginary part\n\n  return array(a, dtype, copy=False, order=order)\n\n/home/andreas/src/env-3.8/lib/python3.8/site-packages/numpy/core/_asarray.py:85: ComplexWarning: Casting complex values to real discards the imaginary part\n\n  return array(a, dtype, copy=False, order=order)\n\n/home/andreas/src/env-3.8/lib/python3.8/site-packages/numpy/core/_asarray.py:85: ComplexWarning: Casting complex values to real discards the imaginary part\n\n  return array(a, dtype, copy=False, order=order)\n\n/home/andreas/src/env-3.8/lib/python3.8/site-packages/numpy/core/_asarray.py:85: ComplexWarning: Casting complex values to real discards the imaginary part\n\n  return array(a, dtype, copy=False, order=order)\n\n/home/andreas/src/env-3.8/lib/python3.8/site-packages/numpy/core/_asarray.py:85: ComplexWarning: Casting complex values to real discards the imaginary part\n\n  return array(a, dtype, copy=False, order=order)\n\n/home/andreas/src/env-3.8/lib/python3.8/site-packages/numpy/core/_asarray.py:85: ComplexWarning: Casting complex values to real discards the imaginary part\n\n  return array(a, dtype, copy=False, order=order)\n\n/home/andreas/src/env-3.8/lib/python3.8/site-packages/numpy/core/_asarray.py:85: ComplexWarning: Casting complex values to real discards the imaginary part\n\n  return array(a, dtype, copy=False, order=order)\n"
        },
        {
          "output_type": "display_data",
          "data": {
            "image/png": "[encoded data removed]",
            "text/plain": [
              "<Figure size 432x288 with 1 Axes>"
            ]
          },
          "metadata": {
            "needs_background": "light"
          }
        }
      ]
    },
    {
      "cell_type": "code",
      "source": "",
      "metadata": {
        "collapsed": false,
        "jupyter": {
          "outputs_hidden": false
        }
      },
      "execution_count": null,
      "outputs": []
    }
  ]
}